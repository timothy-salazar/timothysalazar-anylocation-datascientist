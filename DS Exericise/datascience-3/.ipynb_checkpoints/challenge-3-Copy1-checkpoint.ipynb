{
 "cells": [
  {
   "cell_type": "code",
   "execution_count": 1,
   "metadata": {
    "collapsed": true
   },
   "outputs": [],
   "source": [
    "import matplotlib.pyplot as plt\n",
    "import pandas as pd\n",
    "import numpy as np\n",
    "%matplotlib inline"
   ]
  },
  {
   "cell_type": "code",
   "execution_count": 2,
   "metadata": {},
   "outputs": [
    {
     "data": {
      "text/plain": [
       "['Data USA - Map of Median Property Value by County.csv',\n",
       " 'Data USA - Map of High School Graduation by County.csv',\n",
       " 'Data USA - Map of Teen Births (Age 15-19) per 1,000 People by County.csv',\n",
       " 'Data USA - Map of Percent Uninsured (Adults) by County.csv',\n",
       " 'Data USA - Map of Unemployment by County.csv',\n",
       " 'Data USA - Map of Median Household Income by County.csv',\n",
       " 'Data USA - Map of Average Travel Time by County.csv',\n",
       " 'Data USA - Map of Child Mortality per 100,000 People by County.csv',\n",
       " 'Data USA - Map of Rural Population by County.csv',\n",
       " 'Data USA - Map of HIV Diagnoses per 100,000 People by County.csv']"
      ]
     },
     "execution_count": 2,
     "metadata": {},
     "output_type": "execute_result"
    }
   ],
   "source": [
    "import os\n",
    "dir_list = os.listdir('../assets/classification')\n",
    "dir_list"
   ]
  },
  {
   "cell_type": "markdown",
   "metadata": {},
   "source": [
    "Let's just take a look so we can get an idea of what we're dealing with.\n",
    "Choosing 2 at random."
   ]
  },
  {
   "cell_type": "code",
   "execution_count": 3,
   "metadata": {},
   "outputs": [
    {
     "data": {
      "text/html": [
       "<div>\n",
       "<style>\n",
       "    .dataframe thead tr:only-child th {\n",
       "        text-align: right;\n",
       "    }\n",
       "\n",
       "    .dataframe thead th {\n",
       "        text-align: left;\n",
       "    }\n",
       "\n",
       "    .dataframe tbody tr th {\n",
       "        vertical-align: top;\n",
       "    }\n",
       "</style>\n",
       "<table border=\"1\" class=\"dataframe\">\n",
       "  <thead>\n",
       "    <tr style=\"text-align: right;\">\n",
       "      <th></th>\n",
       "      <th>year</th>\n",
       "      <th>geo_name</th>\n",
       "      <th>geo</th>\n",
       "      <th>mean_commute_minutes</th>\n",
       "    </tr>\n",
       "  </thead>\n",
       "  <tbody>\n",
       "    <tr>\n",
       "      <th>0</th>\n",
       "      <td>2015</td>\n",
       "      <td>Pike County</td>\n",
       "      <td>05000US42103</td>\n",
       "      <td>42.1331</td>\n",
       "    </tr>\n",
       "    <tr>\n",
       "      <th>1</th>\n",
       "      <td>2015</td>\n",
       "      <td>Bronx County, NY</td>\n",
       "      <td>05000US36005</td>\n",
       "      <td>41.6023</td>\n",
       "    </tr>\n",
       "    <tr>\n",
       "      <th>2</th>\n",
       "      <td>2015</td>\n",
       "      <td>Richmond County, NY</td>\n",
       "      <td>05000US36085</td>\n",
       "      <td>41.5824</td>\n",
       "    </tr>\n",
       "    <tr>\n",
       "      <th>3</th>\n",
       "      <td>2013</td>\n",
       "      <td>Charles County, MD</td>\n",
       "      <td>05000US24017</td>\n",
       "      <td>41.5622</td>\n",
       "    </tr>\n",
       "    <tr>\n",
       "      <th>4</th>\n",
       "      <td>2015</td>\n",
       "      <td>Queens County, NY</td>\n",
       "      <td>05000US36081</td>\n",
       "      <td>41.5550</td>\n",
       "    </tr>\n",
       "  </tbody>\n",
       "</table>\n",
       "</div>"
      ],
      "text/plain": [
       "   year             geo_name           geo  mean_commute_minutes\n",
       "0  2015          Pike County  05000US42103               42.1331\n",
       "1  2015     Bronx County, NY  05000US36005               41.6023\n",
       "2  2015  Richmond County, NY  05000US36085               41.5824\n",
       "3  2013   Charles County, MD  05000US24017               41.5622\n",
       "4  2015    Queens County, NY  05000US36081               41.5550"
      ]
     },
     "execution_count": 3,
     "metadata": {},
     "output_type": "execute_result"
    }
   ],
   "source": [
    "df1 = pd.read_csv('../assets/classification/Data USA - Map of Average Travel Time by County.csv')\n",
    "df1.head()"
   ]
  },
  {
   "cell_type": "code",
   "execution_count": 4,
   "metadata": {},
   "outputs": [
    {
     "data": {
      "text/html": [
       "<div>\n",
       "<style>\n",
       "    .dataframe thead tr:only-child th {\n",
       "        text-align: right;\n",
       "    }\n",
       "\n",
       "    .dataframe thead th {\n",
       "        text-align: left;\n",
       "    }\n",
       "\n",
       "    .dataframe tbody tr th {\n",
       "        vertical-align: top;\n",
       "    }\n",
       "</style>\n",
       "<table border=\"1\" class=\"dataframe\">\n",
       "  <thead>\n",
       "    <tr style=\"text-align: right;\">\n",
       "      <th></th>\n",
       "      <th>year</th>\n",
       "      <th>geo_name</th>\n",
       "      <th>geo</th>\n",
       "      <th>population_living_in_a_rural_area</th>\n",
       "    </tr>\n",
       "  </thead>\n",
       "  <tbody>\n",
       "    <tr>\n",
       "      <th>0</th>\n",
       "      <td>2016</td>\n",
       "      <td>Kemper County</td>\n",
       "      <td>05000US28069</td>\n",
       "      <td>1.0</td>\n",
       "    </tr>\n",
       "    <tr>\n",
       "      <th>1</th>\n",
       "      <td>2015</td>\n",
       "      <td>Kemper County</td>\n",
       "      <td>05000US28069</td>\n",
       "      <td>1.0</td>\n",
       "    </tr>\n",
       "    <tr>\n",
       "      <th>2</th>\n",
       "      <td>2017</td>\n",
       "      <td>Kemper County</td>\n",
       "      <td>05000US28069</td>\n",
       "      <td>1.0</td>\n",
       "    </tr>\n",
       "    <tr>\n",
       "      <th>3</th>\n",
       "      <td>2017</td>\n",
       "      <td>Walthall County</td>\n",
       "      <td>05000US28147</td>\n",
       "      <td>1.0</td>\n",
       "    </tr>\n",
       "    <tr>\n",
       "      <th>4</th>\n",
       "      <td>2016</td>\n",
       "      <td>Walthall County</td>\n",
       "      <td>05000US28147</td>\n",
       "      <td>1.0</td>\n",
       "    </tr>\n",
       "  </tbody>\n",
       "</table>\n",
       "</div>"
      ],
      "text/plain": [
       "   year         geo_name           geo  population_living_in_a_rural_area\n",
       "0  2016    Kemper County  05000US28069                                1.0\n",
       "1  2015    Kemper County  05000US28069                                1.0\n",
       "2  2017    Kemper County  05000US28069                                1.0\n",
       "3  2017  Walthall County  05000US28147                                1.0\n",
       "4  2016  Walthall County  05000US28147                                1.0"
      ]
     },
     "execution_count": 4,
     "metadata": {},
     "output_type": "execute_result"
    }
   ],
   "source": [
    "df2 = pd.read_csv('../assets/classification/Data USA - Map of Rural Population by County.csv')\n",
    "df2.head()"
   ]
  },
  {
   "cell_type": "code",
   "execution_count": 5,
   "metadata": {},
   "outputs": [
    {
     "data": {
      "text/html": [
       "<div>\n",
       "<style>\n",
       "    .dataframe thead tr:only-child th {\n",
       "        text-align: right;\n",
       "    }\n",
       "\n",
       "    .dataframe thead th {\n",
       "        text-align: left;\n",
       "    }\n",
       "\n",
       "    .dataframe tbody tr th {\n",
       "        vertical-align: top;\n",
       "    }\n",
       "</style>\n",
       "<table border=\"1\" class=\"dataframe\">\n",
       "  <thead>\n",
       "    <tr style=\"text-align: right;\">\n",
       "      <th></th>\n",
       "      <th>year</th>\n",
       "      <th>geo_name</th>\n",
       "      <th>geo</th>\n",
       "      <th>population_living_in_a_rural_area</th>\n",
       "    </tr>\n",
       "  </thead>\n",
       "  <tbody>\n",
       "    <tr>\n",
       "      <th>175</th>\n",
       "      <td>2017</td>\n",
       "      <td>Pike County</td>\n",
       "      <td>05000US18125</td>\n",
       "      <td>1.000</td>\n",
       "    </tr>\n",
       "    <tr>\n",
       "      <th>176</th>\n",
       "      <td>2016</td>\n",
       "      <td>Pike County</td>\n",
       "      <td>05000US18125</td>\n",
       "      <td>1.000</td>\n",
       "    </tr>\n",
       "    <tr>\n",
       "      <th>177</th>\n",
       "      <td>2015</td>\n",
       "      <td>Pike County</td>\n",
       "      <td>05000US18125</td>\n",
       "      <td>1.000</td>\n",
       "    </tr>\n",
       "    <tr>\n",
       "      <th>640</th>\n",
       "      <td>2017</td>\n",
       "      <td>Pike County</td>\n",
       "      <td>05000US05109</td>\n",
       "      <td>1.000</td>\n",
       "    </tr>\n",
       "    <tr>\n",
       "      <th>641</th>\n",
       "      <td>2016</td>\n",
       "      <td>Pike County</td>\n",
       "      <td>05000US05109</td>\n",
       "      <td>1.000</td>\n",
       "    </tr>\n",
       "    <tr>\n",
       "      <th>642</th>\n",
       "      <td>2015</td>\n",
       "      <td>Pike County</td>\n",
       "      <td>05000US05109</td>\n",
       "      <td>1.000</td>\n",
       "    </tr>\n",
       "    <tr>\n",
       "      <th>2138</th>\n",
       "      <td>2016</td>\n",
       "      <td>Pike County</td>\n",
       "      <td>05000US13231</td>\n",
       "      <td>0.990</td>\n",
       "    </tr>\n",
       "    <tr>\n",
       "      <th>2139</th>\n",
       "      <td>2017</td>\n",
       "      <td>Pike County</td>\n",
       "      <td>05000US13231</td>\n",
       "      <td>0.990</td>\n",
       "    </tr>\n",
       "    <tr>\n",
       "      <th>2140</th>\n",
       "      <td>2015</td>\n",
       "      <td>Pike County</td>\n",
       "      <td>05000US13231</td>\n",
       "      <td>0.990</td>\n",
       "    </tr>\n",
       "    <tr>\n",
       "      <th>2358</th>\n",
       "      <td>2016</td>\n",
       "      <td>Pike County</td>\n",
       "      <td>05000US21195</td>\n",
       "      <td>0.878</td>\n",
       "    </tr>\n",
       "    <tr>\n",
       "      <th>2361</th>\n",
       "      <td>2015</td>\n",
       "      <td>Pike County</td>\n",
       "      <td>05000US21195</td>\n",
       "      <td>0.878</td>\n",
       "    </tr>\n",
       "    <tr>\n",
       "      <th>2362</th>\n",
       "      <td>2017</td>\n",
       "      <td>Pike County</td>\n",
       "      <td>05000US21195</td>\n",
       "      <td>0.878</td>\n",
       "    </tr>\n",
       "    <tr>\n",
       "      <th>3234</th>\n",
       "      <td>2016</td>\n",
       "      <td>Pike County</td>\n",
       "      <td>05000US39131</td>\n",
       "      <td>0.742</td>\n",
       "    </tr>\n",
       "    <tr>\n",
       "      <th>3235</th>\n",
       "      <td>2017</td>\n",
       "      <td>Pike County</td>\n",
       "      <td>05000US39131</td>\n",
       "      <td>0.742</td>\n",
       "    </tr>\n",
       "    <tr>\n",
       "      <th>3236</th>\n",
       "      <td>2015</td>\n",
       "      <td>Pike County</td>\n",
       "      <td>05000US39131</td>\n",
       "      <td>0.742</td>\n",
       "    </tr>\n",
       "    <tr>\n",
       "      <th>3416</th>\n",
       "      <td>2017</td>\n",
       "      <td>Pike County</td>\n",
       "      <td>05000US17149</td>\n",
       "      <td>0.723</td>\n",
       "    </tr>\n",
       "    <tr>\n",
       "      <th>3417</th>\n",
       "      <td>2016</td>\n",
       "      <td>Pike County</td>\n",
       "      <td>05000US17149</td>\n",
       "      <td>0.723</td>\n",
       "    </tr>\n",
       "    <tr>\n",
       "      <th>3424</th>\n",
       "      <td>2015</td>\n",
       "      <td>Pike County</td>\n",
       "      <td>05000US17149</td>\n",
       "      <td>0.723</td>\n",
       "    </tr>\n",
       "    <tr>\n",
       "      <th>3551</th>\n",
       "      <td>2016</td>\n",
       "      <td>Pike County</td>\n",
       "      <td>05000US42103</td>\n",
       "      <td>0.708</td>\n",
       "    </tr>\n",
       "    <tr>\n",
       "      <th>3562</th>\n",
       "      <td>2017</td>\n",
       "      <td>Pike County</td>\n",
       "      <td>05000US42103</td>\n",
       "      <td>0.708</td>\n",
       "    </tr>\n",
       "    <tr>\n",
       "      <th>3563</th>\n",
       "      <td>2015</td>\n",
       "      <td>Pike County</td>\n",
       "      <td>05000US42103</td>\n",
       "      <td>0.708</td>\n",
       "    </tr>\n",
       "    <tr>\n",
       "      <th>4722</th>\n",
       "      <td>2015</td>\n",
       "      <td>Pike County</td>\n",
       "      <td>05000US28113</td>\n",
       "      <td>0.594</td>\n",
       "    </tr>\n",
       "    <tr>\n",
       "      <th>4723</th>\n",
       "      <td>2017</td>\n",
       "      <td>Pike County</td>\n",
       "      <td>05000US28113</td>\n",
       "      <td>0.594</td>\n",
       "    </tr>\n",
       "    <tr>\n",
       "      <th>4726</th>\n",
       "      <td>2016</td>\n",
       "      <td>Pike County</td>\n",
       "      <td>05000US28113</td>\n",
       "      <td>0.594</td>\n",
       "    </tr>\n",
       "    <tr>\n",
       "      <th>5204</th>\n",
       "      <td>2017</td>\n",
       "      <td>Pike County</td>\n",
       "      <td>05000US29163</td>\n",
       "      <td>0.544</td>\n",
       "    </tr>\n",
       "    <tr>\n",
       "      <th>5211</th>\n",
       "      <td>2016</td>\n",
       "      <td>Pike County</td>\n",
       "      <td>05000US29163</td>\n",
       "      <td>0.544</td>\n",
       "    </tr>\n",
       "    <tr>\n",
       "      <th>5215</th>\n",
       "      <td>2015</td>\n",
       "      <td>Pike County</td>\n",
       "      <td>05000US29163</td>\n",
       "      <td>0.544</td>\n",
       "    </tr>\n",
       "    <tr>\n",
       "      <th>5469</th>\n",
       "      <td>2016</td>\n",
       "      <td>Pike County</td>\n",
       "      <td>05000US01109</td>\n",
       "      <td>0.517</td>\n",
       "    </tr>\n",
       "    <tr>\n",
       "      <th>5471</th>\n",
       "      <td>2015</td>\n",
       "      <td>Pike County</td>\n",
       "      <td>05000US01109</td>\n",
       "      <td>0.517</td>\n",
       "    </tr>\n",
       "    <tr>\n",
       "      <th>5472</th>\n",
       "      <td>2017</td>\n",
       "      <td>Pike County</td>\n",
       "      <td>05000US01109</td>\n",
       "      <td>0.517</td>\n",
       "    </tr>\n",
       "  </tbody>\n",
       "</table>\n",
       "</div>"
      ],
      "text/plain": [
       "      year     geo_name           geo  population_living_in_a_rural_area\n",
       "175   2017  Pike County  05000US18125                              1.000\n",
       "176   2016  Pike County  05000US18125                              1.000\n",
       "177   2015  Pike County  05000US18125                              1.000\n",
       "640   2017  Pike County  05000US05109                              1.000\n",
       "641   2016  Pike County  05000US05109                              1.000\n",
       "642   2015  Pike County  05000US05109                              1.000\n",
       "2138  2016  Pike County  05000US13231                              0.990\n",
       "2139  2017  Pike County  05000US13231                              0.990\n",
       "2140  2015  Pike County  05000US13231                              0.990\n",
       "2358  2016  Pike County  05000US21195                              0.878\n",
       "2361  2015  Pike County  05000US21195                              0.878\n",
       "2362  2017  Pike County  05000US21195                              0.878\n",
       "3234  2016  Pike County  05000US39131                              0.742\n",
       "3235  2017  Pike County  05000US39131                              0.742\n",
       "3236  2015  Pike County  05000US39131                              0.742\n",
       "3416  2017  Pike County  05000US17149                              0.723\n",
       "3417  2016  Pike County  05000US17149                              0.723\n",
       "3424  2015  Pike County  05000US17149                              0.723\n",
       "3551  2016  Pike County  05000US42103                              0.708\n",
       "3562  2017  Pike County  05000US42103                              0.708\n",
       "3563  2015  Pike County  05000US42103                              0.708\n",
       "4722  2015  Pike County  05000US28113                              0.594\n",
       "4723  2017  Pike County  05000US28113                              0.594\n",
       "4726  2016  Pike County  05000US28113                              0.594\n",
       "5204  2017  Pike County  05000US29163                              0.544\n",
       "5211  2016  Pike County  05000US29163                              0.544\n",
       "5215  2015  Pike County  05000US29163                              0.544\n",
       "5469  2016  Pike County  05000US01109                              0.517\n",
       "5471  2015  Pike County  05000US01109                              0.517\n",
       "5472  2017  Pike County  05000US01109                              0.517"
      ]
     },
     "execution_count": 5,
     "metadata": {},
     "output_type": "execute_result"
    }
   ],
   "source": [
    "df2.loc[np.where(df2.geo_name == 'Pike County')]"
   ]
  },
  {
   "cell_type": "code",
   "execution_count": 6,
   "metadata": {
    "scrolled": true
   },
   "outputs": [
    {
     "data": {
      "text/html": [
       "<div>\n",
       "<style>\n",
       "    .dataframe thead tr:only-child th {\n",
       "        text-align: right;\n",
       "    }\n",
       "\n",
       "    .dataframe thead th {\n",
       "        text-align: left;\n",
       "    }\n",
       "\n",
       "    .dataframe tbody tr th {\n",
       "        vertical-align: top;\n",
       "    }\n",
       "</style>\n",
       "<table border=\"1\" class=\"dataframe\">\n",
       "  <thead>\n",
       "    <tr style=\"text-align: right;\">\n",
       "      <th></th>\n",
       "      <th>year</th>\n",
       "      <th>geo_name</th>\n",
       "      <th>geo</th>\n",
       "      <th>population_living_in_a_rural_area</th>\n",
       "      <th>STATEFP</th>\n",
       "      <th>COUNTYFP</th>\n",
       "    </tr>\n",
       "  </thead>\n",
       "  <tbody>\n",
       "    <tr>\n",
       "      <th>0</th>\n",
       "      <td>2016</td>\n",
       "      <td>Kemper County</td>\n",
       "      <td>05000US28069</td>\n",
       "      <td>1.0</td>\n",
       "      <td>28</td>\n",
       "      <td>069</td>\n",
       "    </tr>\n",
       "    <tr>\n",
       "      <th>1</th>\n",
       "      <td>2015</td>\n",
       "      <td>Kemper County</td>\n",
       "      <td>05000US28069</td>\n",
       "      <td>1.0</td>\n",
       "      <td>28</td>\n",
       "      <td>069</td>\n",
       "    </tr>\n",
       "    <tr>\n",
       "      <th>2</th>\n",
       "      <td>2017</td>\n",
       "      <td>Kemper County</td>\n",
       "      <td>05000US28069</td>\n",
       "      <td>1.0</td>\n",
       "      <td>28</td>\n",
       "      <td>069</td>\n",
       "    </tr>\n",
       "    <tr>\n",
       "      <th>3</th>\n",
       "      <td>2017</td>\n",
       "      <td>Walthall County</td>\n",
       "      <td>05000US28147</td>\n",
       "      <td>1.0</td>\n",
       "      <td>28</td>\n",
       "      <td>147</td>\n",
       "    </tr>\n",
       "    <tr>\n",
       "      <th>4</th>\n",
       "      <td>2016</td>\n",
       "      <td>Walthall County</td>\n",
       "      <td>05000US28147</td>\n",
       "      <td>1.0</td>\n",
       "      <td>28</td>\n",
       "      <td>147</td>\n",
       "    </tr>\n",
       "  </tbody>\n",
       "</table>\n",
       "</div>"
      ],
      "text/plain": [
       "   year         geo_name           geo  population_living_in_a_rural_area  \\\n",
       "0  2016    Kemper County  05000US28069                                1.0   \n",
       "1  2015    Kemper County  05000US28069                                1.0   \n",
       "2  2017    Kemper County  05000US28069                                1.0   \n",
       "3  2017  Walthall County  05000US28147                                1.0   \n",
       "4  2016  Walthall County  05000US28147                                1.0   \n",
       "\n",
       "  STATEFP COUNTYFP  \n",
       "0      28      069  \n",
       "1      28      069  \n",
       "2      28      069  \n",
       "3      28      147  \n",
       "4      28      147  "
      ]
     },
     "execution_count": 6,
     "metadata": {},
     "output_type": "execute_result"
    }
   ],
   "source": [
    "def make_fips_cols(df,g='geo'):\n",
    "    # 05000US prefix is 7 characters long, so we can neatly cut out \n",
    "    # the 2 character state and 3 character county codes. \n",
    "    try:\n",
    "        df['STATEFP'] = [i[7:9] for i in df[g]]\n",
    "        df['COUNTYFP'] = [i[9:13] for i in df[g]]\n",
    "        return df\n",
    "    except IndexError:\n",
    "        print('This file has an incorrect format')\n",
    "df2 = make_fips_cols(df2)\n",
    "df2.head()"
   ]
  },
  {
   "cell_type": "code",
   "execution_count": 8,
   "metadata": {},
   "outputs": [],
   "source": [
    "import geopandas as gpd\n",
    "fp = '../assets/us_5m/cb_2016_us_county_5m.shp'\n",
    "gdf = gpd.read_file(fp)"
   ]
  },
  {
   "cell_type": "code",
   "execution_count": 9,
   "metadata": {},
   "outputs": [
    {
     "data": {
      "text/html": [
       "<div>\n",
       "<style>\n",
       "    .dataframe thead tr:only-child th {\n",
       "        text-align: right;\n",
       "    }\n",
       "\n",
       "    .dataframe thead th {\n",
       "        text-align: left;\n",
       "    }\n",
       "\n",
       "    .dataframe tbody tr th {\n",
       "        vertical-align: top;\n",
       "    }\n",
       "</style>\n",
       "<table border=\"1\" class=\"dataframe\">\n",
       "  <thead>\n",
       "    <tr style=\"text-align: right;\">\n",
       "      <th></th>\n",
       "      <th>STATEFP</th>\n",
       "      <th>COUNTYFP</th>\n",
       "      <th>COUNTYNS</th>\n",
       "      <th>AFFGEOID</th>\n",
       "      <th>GEOID</th>\n",
       "      <th>NAME</th>\n",
       "      <th>LSAD</th>\n",
       "      <th>ALAND</th>\n",
       "      <th>AWATER</th>\n",
       "      <th>geometry</th>\n",
       "    </tr>\n",
       "  </thead>\n",
       "  <tbody>\n",
       "    <tr>\n",
       "      <th>0</th>\n",
       "      <td>04</td>\n",
       "      <td>015</td>\n",
       "      <td>00025445</td>\n",
       "      <td>0500000US04015</td>\n",
       "      <td>04015</td>\n",
       "      <td>Mohave</td>\n",
       "      <td>06</td>\n",
       "      <td>34475567011</td>\n",
       "      <td>387344307</td>\n",
       "      <td>POLYGON ((-114.755618 36.087166, -114.753638 3...</td>\n",
       "    </tr>\n",
       "    <tr>\n",
       "      <th>1</th>\n",
       "      <td>12</td>\n",
       "      <td>035</td>\n",
       "      <td>00308547</td>\n",
       "      <td>0500000US12035</td>\n",
       "      <td>12035</td>\n",
       "      <td>Flagler</td>\n",
       "      <td>06</td>\n",
       "      <td>1257365642</td>\n",
       "      <td>221047161</td>\n",
       "      <td>POLYGON ((-81.52365999999999 29.622432, -81.32...</td>\n",
       "    </tr>\n",
       "    <tr>\n",
       "      <th>2</th>\n",
       "      <td>20</td>\n",
       "      <td>129</td>\n",
       "      <td>00485135</td>\n",
       "      <td>0500000US20129</td>\n",
       "      <td>20129</td>\n",
       "      <td>Morton</td>\n",
       "      <td>06</td>\n",
       "      <td>1889993251</td>\n",
       "      <td>507796</td>\n",
       "      <td>POLYGON ((-102.041952 37.024742, -102.04195 37...</td>\n",
       "    </tr>\n",
       "    <tr>\n",
       "      <th>3</th>\n",
       "      <td>28</td>\n",
       "      <td>093</td>\n",
       "      <td>00695770</td>\n",
       "      <td>0500000US28093</td>\n",
       "      <td>28093</td>\n",
       "      <td>Marshall</td>\n",
       "      <td>06</td>\n",
       "      <td>1828989833</td>\n",
       "      <td>9195190</td>\n",
       "      <td>POLYGON ((-89.7243244282036 34.9952117286505, ...</td>\n",
       "    </tr>\n",
       "    <tr>\n",
       "      <th>4</th>\n",
       "      <td>29</td>\n",
       "      <td>510</td>\n",
       "      <td>00767557</td>\n",
       "      <td>0500000US29510</td>\n",
       "      <td>29510</td>\n",
       "      <td>St. Louis</td>\n",
       "      <td>25</td>\n",
       "      <td>160458044</td>\n",
       "      <td>10670040</td>\n",
       "      <td>POLYGON ((-90.318212 38.600017, -90.301828 38....</td>\n",
       "    </tr>\n",
       "  </tbody>\n",
       "</table>\n",
       "</div>"
      ],
      "text/plain": [
       "  STATEFP COUNTYFP  COUNTYNS        AFFGEOID  GEOID       NAME LSAD  \\\n",
       "0      04      015  00025445  0500000US04015  04015     Mohave   06   \n",
       "1      12      035  00308547  0500000US12035  12035    Flagler   06   \n",
       "2      20      129  00485135  0500000US20129  20129     Morton   06   \n",
       "3      28      093  00695770  0500000US28093  28093   Marshall   06   \n",
       "4      29      510  00767557  0500000US29510  29510  St. Louis   25   \n",
       "\n",
       "         ALAND     AWATER                                           geometry  \n",
       "0  34475567011  387344307  POLYGON ((-114.755618 36.087166, -114.753638 3...  \n",
       "1   1257365642  221047161  POLYGON ((-81.52365999999999 29.622432, -81.32...  \n",
       "2   1889993251     507796  POLYGON ((-102.041952 37.024742, -102.04195 37...  \n",
       "3   1828989833    9195190  POLYGON ((-89.7243244282036 34.9952117286505, ...  \n",
       "4    160458044   10670040  POLYGON ((-90.318212 38.600017, -90.301828 38....  "
      ]
     },
     "execution_count": 9,
     "metadata": {},
     "output_type": "execute_result"
    }
   ],
   "source": [
    "gdf.head()"
   ]
  },
  {
   "cell_type": "markdown",
   "metadata": {},
   "source": [
    "This isn't really necessary, I could build a classification model without digging into the guts of this, but I'd like to be able to visualize what's going on.\n",
    "\n",
    "Plus, it's a chance for me to show off my GIS background"
   ]
  },
  {
   "cell_type": "code",
   "execution_count": 10,
   "metadata": {},
   "outputs": [
    {
     "data": {
      "text/plain": [
       "<matplotlib.axes._subplots.AxesSubplot at 0x11f4e9b70>"
      ]
     },
     "execution_count": 10,
     "metadata": {},
     "output_type": "execute_result"
    },
    {
     "data": {
      "image/png": "[encoded data removed]",
      "text/plain": [
       "<matplotlib.figure.Figure at 0x11f4f4dd8>"
      ]
     },
     "metadata": {},
     "output_type": "display_data"
    }
   ],
   "source": [
    "gdf.plot()"
   ]
  },
  {
   "cell_type": "code",
   "execution_count": 11,
   "metadata": {},
   "outputs": [
    {
     "data": {
      "text/html": [
       "<div>\n",
       "<style>\n",
       "    .dataframe thead tr:only-child th {\n",
       "        text-align: right;\n",
       "    }\n",
       "\n",
       "    .dataframe thead th {\n",
       "        text-align: left;\n",
       "    }\n",
       "\n",
       "    .dataframe tbody tr th {\n",
       "        vertical-align: top;\n",
       "    }\n",
       "</style>\n",
       "<table border=\"1\" class=\"dataframe\">\n",
       "  <thead>\n",
       "    <tr style=\"text-align: right;\">\n",
       "      <th></th>\n",
       "      <th>STATEFP</th>\n",
       "      <th>COUNTYFP</th>\n",
       "      <th>COUNTYNS</th>\n",
       "      <th>AFFGEOID</th>\n",
       "      <th>GEOID</th>\n",
       "      <th>NAME</th>\n",
       "      <th>LSAD</th>\n",
       "      <th>ALAND</th>\n",
       "      <th>AWATER</th>\n",
       "      <th>geometry</th>\n",
       "      <th>year</th>\n",
       "      <th>geo_name</th>\n",
       "      <th>geo</th>\n",
       "      <th>population_living_in_a_rural_area</th>\n",
       "    </tr>\n",
       "  </thead>\n",
       "  <tbody>\n",
       "    <tr>\n",
       "      <th>0</th>\n",
       "      <td>04</td>\n",
       "      <td>015</td>\n",
       "      <td>00025445</td>\n",
       "      <td>0500000US04015</td>\n",
       "      <td>04015</td>\n",
       "      <td>Mohave</td>\n",
       "      <td>06</td>\n",
       "      <td>34475567011</td>\n",
       "      <td>387344307</td>\n",
       "      <td>POLYGON ((-114.755618 36.087166, -114.753638 3...</td>\n",
       "      <td>2016</td>\n",
       "      <td>Mohave County, AZ</td>\n",
       "      <td>05000US04015</td>\n",
       "      <td>0.230</td>\n",
       "    </tr>\n",
       "    <tr>\n",
       "      <th>1</th>\n",
       "      <td>04</td>\n",
       "      <td>015</td>\n",
       "      <td>00025445</td>\n",
       "      <td>0500000US04015</td>\n",
       "      <td>04015</td>\n",
       "      <td>Mohave</td>\n",
       "      <td>06</td>\n",
       "      <td>34475567011</td>\n",
       "      <td>387344307</td>\n",
       "      <td>POLYGON ((-114.755618 36.087166, -114.753638 3...</td>\n",
       "      <td>2017</td>\n",
       "      <td>Mohave County, AZ</td>\n",
       "      <td>05000US04015</td>\n",
       "      <td>0.230</td>\n",
       "    </tr>\n",
       "    <tr>\n",
       "      <th>2</th>\n",
       "      <td>04</td>\n",
       "      <td>015</td>\n",
       "      <td>00025445</td>\n",
       "      <td>0500000US04015</td>\n",
       "      <td>04015</td>\n",
       "      <td>Mohave</td>\n",
       "      <td>06</td>\n",
       "      <td>34475567011</td>\n",
       "      <td>387344307</td>\n",
       "      <td>POLYGON ((-114.755618 36.087166, -114.753638 3...</td>\n",
       "      <td>2015</td>\n",
       "      <td>Mohave County, AZ</td>\n",
       "      <td>05000US04015</td>\n",
       "      <td>0.230</td>\n",
       "    </tr>\n",
       "    <tr>\n",
       "      <th>3</th>\n",
       "      <td>12</td>\n",
       "      <td>035</td>\n",
       "      <td>00308547</td>\n",
       "      <td>0500000US12035</td>\n",
       "      <td>12035</td>\n",
       "      <td>Flagler</td>\n",
       "      <td>06</td>\n",
       "      <td>1257365642</td>\n",
       "      <td>221047161</td>\n",
       "      <td>POLYGON ((-81.52365999999999 29.622432, -81.32...</td>\n",
       "      <td>2017</td>\n",
       "      <td>Flagler County</td>\n",
       "      <td>05000US12035</td>\n",
       "      <td>0.103</td>\n",
       "    </tr>\n",
       "    <tr>\n",
       "      <th>4</th>\n",
       "      <td>12</td>\n",
       "      <td>035</td>\n",
       "      <td>00308547</td>\n",
       "      <td>0500000US12035</td>\n",
       "      <td>12035</td>\n",
       "      <td>Flagler</td>\n",
       "      <td>06</td>\n",
       "      <td>1257365642</td>\n",
       "      <td>221047161</td>\n",
       "      <td>POLYGON ((-81.52365999999999 29.622432, -81.32...</td>\n",
       "      <td>2016</td>\n",
       "      <td>Flagler County</td>\n",
       "      <td>05000US12035</td>\n",
       "      <td>0.103</td>\n",
       "    </tr>\n",
       "  </tbody>\n",
       "</table>\n",
       "</div>"
      ],
      "text/plain": [
       "  STATEFP COUNTYFP  COUNTYNS        AFFGEOID  GEOID     NAME LSAD  \\\n",
       "0      04      015  00025445  0500000US04015  04015   Mohave   06   \n",
       "1      04      015  00025445  0500000US04015  04015   Mohave   06   \n",
       "2      04      015  00025445  0500000US04015  04015   Mohave   06   \n",
       "3      12      035  00308547  0500000US12035  12035  Flagler   06   \n",
       "4      12      035  00308547  0500000US12035  12035  Flagler   06   \n",
       "\n",
       "         ALAND     AWATER                                           geometry  \\\n",
       "0  34475567011  387344307  POLYGON ((-114.755618 36.087166, -114.753638 3...   \n",
       "1  34475567011  387344307  POLYGON ((-114.755618 36.087166, -114.753638 3...   \n",
       "2  34475567011  387344307  POLYGON ((-114.755618 36.087166, -114.753638 3...   \n",
       "3   1257365642  221047161  POLYGON ((-81.52365999999999 29.622432, -81.32...   \n",
       "4   1257365642  221047161  POLYGON ((-81.52365999999999 29.622432, -81.32...   \n",
       "\n",
       "   year           geo_name           geo  population_living_in_a_rural_area  \n",
       "0  2016  Mohave County, AZ  05000US04015                              0.230  \n",
       "1  2017  Mohave County, AZ  05000US04015                              0.230  \n",
       "2  2015  Mohave County, AZ  05000US04015                              0.230  \n",
       "3  2017     Flagler County  05000US12035                              0.103  \n",
       "4  2016     Flagler County  05000US12035                              0.103  "
      ]
     },
     "execution_count": 11,
     "metadata": {},
     "output_type": "execute_result"
    }
   ],
   "source": [
    "# could have made a 'GEOID' column by crunching the two columns together\n",
    "gdf = gdf.merge(df2, on=['STATEFP','COUNTYFP'])\n",
    "gdf.head()"
   ]
  },
  {
   "cell_type": "markdown",
   "metadata": {},
   "source": [
    "OK - everything went well, let's bring in the other dataframes"
   ]
  },
  {
   "cell_type": "markdown",
   "metadata": {},
   "source": [
    "We have 10 tables, each with about 10,000 entries each. This might be a good place to use Spark."
   ]
  },
  {
   "cell_type": "code",
   "execution_count": 12,
   "metadata": {},
   "outputs": [],
   "source": [
    "import pyspark as ps\n",
    "\n",
    "spark = ps.sql.SparkSession.builder \\\n",
    "            .master(\"local[4]\") \\\n",
    "            .appName(\"df challenge\") \\\n",
    "            .getOrCreate()"
   ]
  },
  {
   "cell_type": "code",
   "execution_count": 13,
   "metadata": {},
   "outputs": [
    {
     "name": "stdout",
     "output_type": "stream",
     "text": [
      "spark context loaded successfully\n"
     ]
    }
   ],
   "source": [
    "sc = spark.sparkContext \n",
    "print(\"spark context loaded successfully\")"
   ]
  },
  {
   "cell_type": "code",
   "execution_count": 14,
   "metadata": {},
   "outputs": [
    {
     "data": {
      "text/html": [
       "\n",
       "            <div>\n",
       "                <p><b>SparkSession - in-memory</b></p>\n",
       "                \n",
       "        <div>\n",
       "            <p><b>SparkContext</b></p>\n",
       "\n",
       "            <p><a href=\"http://192.168.10.101:4040\">Spark UI</a></p>\n",
       "\n",
       "            <dl>\n",
       "              <dt>Version</dt>\n",
       "                <dd><code>v2.2.0</code></dd>\n",
       "              <dt>Master</dt>\n",
       "                <dd><code>local[4]</code></dd>\n",
       "              <dt>AppName</dt>\n",
       "                <dd><code>df challenge</code></dd>\n",
       "            </dl>\n",
       "        </div>\n",
       "        \n",
       "            </div>\n",
       "        "
      ],
      "text/plain": [
       "<pyspark.sql.session.SparkSession at 0x11f5ce160>"
      ]
     },
     "execution_count": 14,
     "metadata": {},
     "output_type": "execute_result"
    }
   ],
   "source": [
    "spark"
   ]
  },
  {
   "cell_type": "code",
   "execution_count": 15,
   "metadata": {},
   "outputs": [
    {
     "data": {
      "text/plain": [
       "6"
      ]
     },
     "execution_count": 15,
     "metadata": {},
     "output_type": "execute_result"
    }
   ],
   "source": [
    "df_spark = sc.parallelize(df2)\n",
    "df_spark.count()"
   ]
  },
  {
   "cell_type": "code",
   "execution_count": 16,
   "metadata": {},
   "outputs": [
    {
     "data": {
      "text/plain": [
       "pyspark.rdd.RDD"
      ]
     },
     "execution_count": 16,
     "metadata": {},
     "output_type": "execute_result"
    }
   ],
   "source": [
    "type(df_spark)"
   ]
  },
  {
   "cell_type": "code",
   "execution_count": 17,
   "metadata": {},
   "outputs": [
    {
     "name": "stdout",
     "output_type": "stream",
     "text": [
      "+----+---------------+------------+---------------------------------+-------+--------+\n",
      "|year|       geo_name|         geo|population_living_in_a_rural_area|STATEFP|COUNTYFP|\n",
      "+----+---------------+------------+---------------------------------+-------+--------+\n",
      "|2016|  Kemper County|05000US28069|                              1.0|     28|     069|\n",
      "|2015|  Kemper County|05000US28069|                              1.0|     28|     069|\n",
      "|2017|  Kemper County|05000US28069|                              1.0|     28|     069|\n",
      "|2017|Walthall County|05000US28147|                              1.0|     28|     147|\n",
      "|2016|Walthall County|05000US28147|                              1.0|     28|     147|\n",
      "|2015| Carroll County|05000US28015|                              1.0|     28|     015|\n",
      "|2015|    Polk County|05000US47139|                              1.0|     47|     139|\n",
      "|2016| Pickett County|05000US47137|                              1.0|     47|     137|\n",
      "|2015| Pickett County|05000US47137|                              1.0|     47|     137|\n",
      "|2017| Pickett County|05000US47137|                              1.0|     47|     137|\n",
      "|2017|   Perry County|05000US47135|                              1.0|     47|     135|\n",
      "|2015|   Perry County|05000US47135|                              1.0|     47|     135|\n",
      "|2016|   Perry County|05000US47135|                              1.0|     47|     135|\n",
      "|2016| Choctaw County|05000US28019|                              1.0|     28|     019|\n",
      "|2017| Choctaw County|05000US28019|                              1.0|     28|     019|\n",
      "|2015|  Benton County|05000US18007|                              1.0|     18|     007|\n",
      "|2017|  Benton County|05000US18007|                              1.0|     18|     007|\n",
      "|2016|  Benton County|05000US18007|                              1.0|     18|     007|\n",
      "|2016|    Hyde County|05000US46069|                              1.0|     46|     069|\n",
      "|2015|    Hyde County|05000US46069|                              1.0|     46|     069|\n",
      "+----+---------------+------------+---------------------------------+-------+--------+\n",
      "only showing top 20 rows\n",
      "\n"
     ]
    }
   ],
   "source": [
    "from pyspark.sql import SQLContext\n",
    "sql_ctx = SQLContext(sc)\n",
    "sql_ctx.createDataFrame(df2).show()"
   ]
  },
  {
   "cell_type": "markdown",
   "metadata": {},
   "source": [
    "Awesome - now let's see if we can use this to handle the 10 datasets"
   ]
  },
  {
   "cell_type": "markdown",
   "metadata": {},
   "source": [
    "Let's make a list of the columns we care aboue:"
   ]
  },
  {
   "cell_type": "code",
   "execution_count": 57,
   "metadata": {
    "collapsed": true
   },
   "outputs": [
    {
     "name": "stdout",
     "output_type": "stream",
     "text": [
      "      year              geo_name           geo median_property_value  \\\n",
      "1352  2014    Carson City County  05000US32510              188000.0   \n",
      "5155  2013        Clarion County  05000US42031              106200.0   \n",
      "5312  2014  Cleveland County, NC  05000US37045              104100.0   \n",
      "5619  2015       Chippewa County  05000US27023              100600.0   \n",
      "6868  2013    San Jacinto County  05000US48407               88200.0   \n",
      "\n",
      "     median_property_value_moe  \n",
      "1352                    7457.0  \n",
      "5155                    3287.0  \n",
      "5312                    3524.0  \n",
      "5619                    8147.0  \n",
      "6868                    7612.0  \n",
      "      year          geo_name           geo high_school_graduation\n",
      "958   2015  Van Zandt County  05000US48467                  0.932\n",
      "7993  2015     DeKalb County  05000US29063                   None\n",
      "3866  2016    Orleans County  05000US50019                  0.866\n",
      "8172  2017      Brown County  05000US31017                   None\n",
      "1689  2015    Fayette County  05000US18041                   0.92\n",
      "      year           geo_name           geo teen_births\n",
      "6135  2015    Clay County, FL  05000US12019        30.9\n",
      "3537  2016       Henry County  05000US01067        45.4\n",
      "6393  2016  Oneida County, NY  05000US36065        29.5\n",
      "5587  2016   Josephine County  05000US41033        33.8\n",
      "3525  2016      Medina County  05000US48325        45.5\n",
      "      year            geo_name           geo uninsured_adults\n",
      "7521  2017    Berks County, PA  05000US42011            0.137\n",
      "2     2015  Cameron County, TX  05000US48061            0.491\n",
      "738   2016    Horry County, SC  05000US45051            0.295\n",
      "28    2017        Starr County  05000US48427            0.428\n",
      "6979  2017   Pocahontas County  05000US54075            0.149\n",
      "      year      geo_name           geo unemployment\n",
      "109   2015  Dewey County  05000US46041        0.133\n",
      "8335  2016   Rich County  05000US49033        0.037\n",
      "7167  2017  Dodge County  05000US55027        0.045\n",
      "6892  2016  Adams County  05000US18001        0.047\n",
      "688   2016   Knox County  05000US21121          0.1\n",
      "      year              geo_name           geo   income income_moe income_rank\n",
      "2609  2015        Genesee County  05000US36037  50880.0     1652.0       929.0\n",
      "5412  2013     Washington County  05000US39167  42834.0     1695.0      1753.0\n",
      "9615  2014  Las Marías Municipio  05000US72083  14928.0     1996.0      3209.0\n",
      "9318  2013        Coahoma County  05000US28027  26407.0     1313.0      3103.0\n",
      "6174  2015         Tehama County  05000US06103  41001.0     2564.0      2097.0\n",
      "      year               geo_name           geo  mean_commute_minutes\n",
      "2875  2013           Union County  05000US13291              24.79030\n",
      "5745  2015  Montgomery County, OH  05000US39113              20.71950\n",
      "9631  2013        Hinsdale County  05000US08053               7.23577\n",
      "5727  2014            Ford County  05000US17053              20.73140\n",
      "976   2014   Jefferson County, MO  05000US29099              29.25200\n",
      "      year            geo_name           geo child_mortality\n",
      "1612  2015        Waldo County  05000US23027            71.4\n",
      "3581  2016        Dodge County  05000US27039            52.3\n",
      "5914  2016        Adams County  05000US19003            None\n",
      "9332  2017       Greene County  05000US19073            None\n",
      "872   2015  Northampton County  05000US37131            83.4\n",
      "      year                geo_name           geo  \\\n",
      "7239  2015             Reno County  05000US20155   \n",
      "9050  2016  Westchester County, NY  05000US36119   \n",
      "2118  2015        Henderson County  05000US17071   \n",
      "395   2017     Bristol Bay Borough  05000US02060   \n",
      "1546  2017         Reynolds County  05000US29179   \n",
      "\n",
      "      population_living_in_a_rural_area  \n",
      "7239                              0.313  \n",
      "9050                              0.033  \n",
      "2118                              0.997  \n",
      "395                               1.000  \n",
      "1546                              1.000  \n",
      "      year               geo_name           geo hiv_prevalence_rate\n",
      "6554  2017  Washington County, UT  05000US49053                36.1\n",
      "4347  2016      Shelby County, AL  05000US01117              81.635\n",
      "4172  2016       Sarpy County, NE  05000US31153              86.367\n",
      "5673  2015       Eaton County, MI  05000US26045                54.3\n",
      "9092  2017            Hyde County  05000US46069                None\n"
     ]
    },
    {
     "data": {
      "text/plain": [
       "['median_property_value',\n",
       " 'median_property_value_moe',\n",
       " 'high_school_graduation',\n",
       " 'teen_births',\n",
       " 'uninsured_adults',\n",
       " 'unemployment',\n",
       " 'income',\n",
       " 'income_moe',\n",
       " 'income_rank',\n",
       " 'mean_commute_minutes',\n",
       " 'child_mortality',\n",
       " 'population_living_in_a_rural_area',\n",
       " 'hiv_prevalence_rate']"
      ]
     },
     "execution_count": 57,
     "metadata": {},
     "output_type": "execute_result"
    }
   ],
   "source": [
    "col_list = []\n",
    "for i in dir_list:\n",
    "    fp = '../assets/classification/'+i\n",
    "    temp = pd.read_csv(fp)\n",
    "    print(temp.sample(5))\n",
    "    [col_list.append(i) for i in temp.columns.values[3:]]\n",
    "col_list"
   ]
  },
  {
   "cell_type": "code",
   "execution_count": 53,
   "metadata": {
    "collapsed": true
   },
   "outputs": [
    {
     "name": "stdout",
     "output_type": "stream",
     "text": [
      "---------------------\n",
      "<class 'pandas.core.frame.DataFrame'>\n",
      "RangeIndex: 9661 entries, 0 to 9660\n",
      "Data columns (total 5 columns):\n",
      "year                         9661 non-null int64\n",
      "geo_name                     9661 non-null object\n",
      "geo                          9661 non-null object\n",
      "median_property_value        9661 non-null object\n",
      "median_property_value_moe    9661 non-null object\n",
      "dtypes: int64(1), object(4)\n",
      "memory usage: 377.5+ KB\n",
      "None\n",
      "---------------------\n",
      "<class 'pandas.core.frame.DataFrame'>\n",
      "RangeIndex: 9418 entries, 0 to 9417\n",
      "Data columns (total 4 columns):\n",
      "year                      9418 non-null int64\n",
      "geo_name                  9418 non-null object\n",
      "geo                       9418 non-null object\n",
      "high_school_graduation    9418 non-null object\n",
      "dtypes: int64(1), object(3)\n",
      "memory usage: 294.4+ KB\n",
      "None\n",
      "---------------------\n",
      "<class 'pandas.core.frame.DataFrame'>\n",
      "RangeIndex: 9418 entries, 0 to 9417\n",
      "Data columns (total 4 columns):\n",
      "year           9418 non-null int64\n",
      "geo_name       9418 non-null object\n",
      "geo            9418 non-null object\n",
      "teen_births    9418 non-null object\n",
      "dtypes: int64(1), object(3)\n",
      "memory usage: 294.4+ KB\n",
      "None\n",
      "---------------------\n",
      "<class 'pandas.core.frame.DataFrame'>\n",
      "RangeIndex: 9418 entries, 0 to 9417\n",
      "Data columns (total 4 columns):\n",
      "year                9418 non-null int64\n",
      "geo_name            9418 non-null object\n",
      "geo                 9418 non-null object\n",
      "uninsured_adults    9418 non-null object\n",
      "dtypes: int64(1), object(3)\n",
      "memory usage: 294.4+ KB\n",
      "None\n",
      "---------------------\n",
      "<class 'pandas.core.frame.DataFrame'>\n",
      "RangeIndex: 9418 entries, 0 to 9417\n",
      "Data columns (total 4 columns):\n",
      "year            9418 non-null int64\n",
      "geo_name        9418 non-null object\n",
      "geo             9418 non-null object\n",
      "unemployment    9418 non-null object\n",
      "dtypes: int64(1), object(3)\n",
      "memory usage: 294.4+ KB\n",
      "None\n",
      "---------------------\n",
      "<class 'pandas.core.frame.DataFrame'>\n",
      "RangeIndex: 9661 entries, 0 to 9660\n",
      "Data columns (total 6 columns):\n",
      "year           9661 non-null int64\n",
      "geo_name       9661 non-null object\n",
      "geo            9661 non-null object\n",
      "income         9661 non-null object\n",
      "income_moe     9661 non-null object\n",
      "income_rank    9661 non-null object\n",
      "dtypes: int64(1), object(5)\n",
      "memory usage: 452.9+ KB\n",
      "None\n",
      "---------------------\n",
      "<class 'pandas.core.frame.DataFrame'>\n",
      "RangeIndex: 9661 entries, 0 to 9660\n",
      "Data columns (total 4 columns):\n",
      "year                    9661 non-null int64\n",
      "geo_name                9661 non-null object\n",
      "geo                     9661 non-null object\n",
      "mean_commute_minutes    9661 non-null float64\n",
      "dtypes: float64(1), int64(1), object(2)\n",
      "memory usage: 302.0+ KB\n",
      "None\n",
      "---------------------\n",
      "<class 'pandas.core.frame.DataFrame'>\n",
      "RangeIndex: 9418 entries, 0 to 9417\n",
      "Data columns (total 4 columns):\n",
      "year               9418 non-null int64\n",
      "geo_name           9418 non-null object\n",
      "geo                9418 non-null object\n",
      "child_mortality    9418 non-null object\n",
      "dtypes: int64(1), object(3)\n",
      "memory usage: 294.4+ KB\n",
      "None\n",
      "---------------------\n",
      "<class 'pandas.core.frame.DataFrame'>\n",
      "RangeIndex: 9418 entries, 0 to 9417\n",
      "Data columns (total 4 columns):\n",
      "year                                 9418 non-null int64\n",
      "geo_name                             9418 non-null object\n",
      "geo                                  9418 non-null object\n",
      "population_living_in_a_rural_area    9418 non-null float64\n",
      "dtypes: float64(1), int64(1), object(2)\n",
      "memory usage: 294.4+ KB\n",
      "None\n",
      "---------------------\n",
      "<class 'pandas.core.frame.DataFrame'>\n",
      "RangeIndex: 9418 entries, 0 to 9417\n",
      "Data columns (total 4 columns):\n",
      "year                   9418 non-null int64\n",
      "geo_name               9418 non-null object\n",
      "geo                    9418 non-null object\n",
      "hiv_prevalence_rate    9418 non-null object\n",
      "dtypes: int64(1), object(3)\n",
      "memory usage: 294.4+ KB\n",
      "None\n"
     ]
    }
   ],
   "source": [
    "year_list = []\n",
    "for i in dir_list:\n",
    "    fp = '../assets/classification/'+i\n",
    "    temp = pd.read_csv(fp)\n",
    "    print('---------------------')\n",
    "    print(temp.info())"
   ]
  },
  {
   "cell_type": "code",
   "execution_count": 30,
   "metadata": {},
   "outputs": [],
   "source": [
    "import psycopg2\n",
    "conn = psycopg2.connect(dbname='geodata', user='postgres', host='/tmp')\n",
    "c = conn.cursor()# Before I do this, let's just double check the number of years\n",
    "years = set()\n",
    "for i in dir_list:\n",
    "    fp = '../assets/classification/'+i\n",
    "    temp = pd.read_csv(fp)\n",
    "    [years.add(i) for i in temp.year.values]\n",
    "years"
   ]
  },
  {
   "cell_type": "code",
   "execution_count": 67,
   "metadata": {},
   "outputs": [
    {
     "data": {
      "text/plain": [
       "{'2013', '2014', '2015', '2016', '2017'}"
      ]
     },
     "execution_count": 67,
     "metadata": {},
     "output_type": "execute_result"
    }
   ],
   "source": [
    "# Before I do this, let's just double check the number of years\n",
    "years = set()\n",
    "for i in dir_list:\n",
    "    fp = '../assets/classification/'+i\n",
    "    temp = pd.read_csv(fp)\n",
    "    [years.add(str(i)) for i in temp.year.values]\n",
    "years"
   ]
  },
  {
   "cell_type": "code",
   "execution_count": 69,
   "metadata": {},
   "outputs": [],
   "source": [
    "for i in years:\n",
    "    SQL = '''CREATE TABLE if NOT EXISTS map_data_{} (\n",
    "    geoid INT PRIMARY KEY, geo_name TEXT, year TEXT, median_property_value INT,\n",
    "    median_property_value_moe INT, high_school_graduation REAL, teen_births REAL,\n",
    "    uninsured_adults REAL, unemployment REAL, income INT,\n",
    "    income_moe INT, income_rank INT, mean_commute_minutes REAL,\n",
    "    child_mortality REAL, population_living_in_a_rural_area REAL, hiv_prevalence_rate REAL\n",
    "    )'''.format(i)\n",
    "    c.execute(SQL)\n",
    "conn.commit()"
   ]
  },
  {
   "cell_type": "markdown",
   "metadata": {},
   "source": [
    "I really wanted to do something clever with a for loop, to make the SQL tables/columns automatically, but I had trouble getting the 'execute()' method to handle the query parameters properly.\n",
    "\n",
    "Normally I would never use string formatting to built an SQL query, but this is a toy example that won't ever interact with the public, and time is an issue."
   ]
  },
  {
   "cell_type": "code",
   "execution_count": 312,
   "metadata": {
    "collapsed": true
   },
   "outputs": [],
   "source": [
    "schema_list = [['median_property_value REAL, median_property_value_moe REAL'],\n",
    "               ['high_school_graduation REAL'],['teen_births REAL'],['uninsured_adults REAL'],\n",
    "               ['unemployment REAL'],['income REAL, income_moe REAL, income_rank REAL'],\n",
    "               ['mean_commute_minutes REAL'],['child_mortality REAL'],\n",
    "               ['population_living_in_a_rural_area REAL'],['hiv_prevalence_rate REAL']]"
   ]
  },
  {
   "cell_type": "code",
   "execution_count": 307,
   "metadata": {
    "collapsed": true
   },
   "outputs": [],
   "source": [
    "conn.rollback()"
   ]
  },
  {
   "cell_type": "code",
   "execution_count": 313,
   "metadata": {},
   "outputs": [],
   "source": [
    "for d,t,sch in zip(dir_list,table_names,schema_list):\n",
    "    fp = '../assets/classification/'+d\n",
    "    df = pd.read_csv(fp)\n",
    "    df = make_geoid(df)\n",
    "    for y in years:\n",
    "        table_name = t+y\n",
    "        df_cols = df.columns.values[3:]\n",
    "        df_cols = np.concatenate((['geo','geo_name'], df_cols), axis=0)\n",
    "        SQL = '''CREATE TABLE if NOT EXISTS {} (\n",
    "        geoid INT, geo_name TEXT, {});'''.format(table_name, sch[0])\n",
    "        c.execute(SQL)\n",
    "        conn.commit()\n",
    "        if len(sch[0].split(','))==1: \n",
    "            SQL = \"INSERT INTO {0} VALUES (%s, %s, %s)\".format(table_name)\n",
    "        elif len(sch[0].split(','))==2:\n",
    "            SQL = \"INSERT INTO {0} VALUES (%s, %s, %s, %s)\".format(table_name)\n",
    "        else:\n",
    "            SQL = \"INSERT INTO {0} VALUES (%s, %s, %s, %s, %s)\".format(table_name)\n",
    "        for i in np.where(df.year==int(y))[0]:\n",
    "            c.execute(SQL,tuple([i if i != 'None' else None for i in df[df_cols].loc[i]]))\n",
    "            # The list comp in the c.execute() call is to handle 'None' in string format. \n",
    "            # psycopg2 isn't able to figure out that it's a missing value otherwise, and it\n",
    "            # assumes I'm trying to put text into a numeric field."
   ]
  },
  {
   "cell_type": "code",
   "execution_count": 310,
   "metadata": {},
   "outputs": [
    {
     "data": {
      "text/plain": [
       "array(['geo', 'geo_name', 'income', 'income_moe', 'income_rank'], dtype=object)"
      ]
     },
     "execution_count": 310,
     "metadata": {},
     "output_type": "execute_result"
    }
   ],
   "source": []
  },
  {
   "cell_type": "code",
   "execution_count": 252,
   "metadata": {},
   "outputs": [
    {
     "ename": "ProgrammingError",
     "evalue": "syntax error at or near \"'median_property_value'\"\nLINE 1: ALTER TABLE property_values2013 ADD 'median_property_value' ...\n                                            ^\n",
     "output_type": "error",
     "traceback": [
      "\u001b[0;31m---------------------------------------------------------------------------\u001b[0m",
      "\u001b[0;31mProgrammingError\u001b[0m                          Traceback (most recent call last)",
      "\u001b[0;32m<ipython-input-252-a33b00622b1c>\u001b[0m in \u001b[0;36m<module>\u001b[0;34m()\u001b[0m\n\u001b[1;32m     26\u001b[0m \u001b[0;34m\u001b[0m\u001b[0m\n\u001b[1;32m     27\u001b[0m         \u001b[0mSQL_alter\u001b[0m \u001b[0;34m=\u001b[0m \u001b[0;34m\"ALTER TABLE {0} ADD %s %s;\"\u001b[0m\u001b[0;34m.\u001b[0m\u001b[0mformat\u001b[0m\u001b[0;34m(\u001b[0m\u001b[0mtable_name\u001b[0m\u001b[0;34m)\u001b[0m\u001b[0;34m\u001b[0m\u001b[0m\n\u001b[0;32m---> 28\u001b[0;31m         \u001b[0mc\u001b[0m\u001b[0;34m.\u001b[0m\u001b[0mexecute\u001b[0m\u001b[0;34m(\u001b[0m\u001b[0mSQL_alter\u001b[0m\u001b[0;34m,\u001b[0m\u001b[0;34m(\u001b[0m\u001b[0mcol_df\u001b[0m\u001b[0;34m[\u001b[0m\u001b[0;36m0\u001b[0m\u001b[0;34m]\u001b[0m\u001b[0;34m,\u001b[0m\u001b[0;34m'REAL'\u001b[0m\u001b[0;34m)\u001b[0m\u001b[0;34m)\u001b[0m\u001b[0;34m\u001b[0m\u001b[0m\n\u001b[0m\u001b[1;32m     29\u001b[0m         \u001b[0mSQL_insert\u001b[0m \u001b[0;34m=\u001b[0m \u001b[0;34m\"INSERT INTO {0} VALUES (%s)\"\u001b[0m\u001b[0;34m.\u001b[0m\u001b[0mformat\u001b[0m\u001b[0;34m(\u001b[0m\u001b[0mtable_name\u001b[0m\u001b[0;34m)\u001b[0m\u001b[0;34m\u001b[0m\u001b[0m\n\u001b[1;32m     30\u001b[0m         \u001b[0;32mif\u001b[0m \u001b[0mlen\u001b[0m\u001b[0;34m(\u001b[0m\u001b[0mcol_df\u001b[0m\u001b[0;34m)\u001b[0m \u001b[0;34m==\u001b[0m \u001b[0;36m2\u001b[0m\u001b[0;34m:\u001b[0m\u001b[0;34m\u001b[0m\u001b[0m\n",
      "\u001b[0;31mProgrammingError\u001b[0m: syntax error at or near \"'median_property_value'\"\nLINE 1: ALTER TABLE property_values2013 ADD 'median_property_value' ...\n                                            ^\n"
     ]
    }
   ],
   "source": [
    "def make_geoid(df,g='geo'):\n",
    "    # 05000US prefix is 7 characters long, so we can neatly cut out \n",
    "    # the 2 character state and 3 character county codes. \n",
    "    try:\n",
    "#         df['STATEFP'] = [i[7:9] for i in df[g]]\n",
    "#         df['COUNTYFP'] = [i[9:13] for i in df[g]]\n",
    "        df[g] = [i[7:13] for i in df[g]]\n",
    "        return df\n",
    "    except IndexError:\n",
    "        print('This file has an incorrect format')\n",
    "        \n",
    "table_names = ['property_values','graduation_rate','teen_births','uninsured',\n",
    "               'unemployment','household_income','travel_time','child_mortality',\n",
    "               'rural_population','hiv_diagnoses']\n",
    "for d,t in zip(dir_list,table_names):\n",
    "    fp = '../assets/classification/'+d\n",
    "    df = pd.read_csv(fp)\n",
    "    df = make_geoid(df)\n",
    "    for y in years:\n",
    "        table_name = t+y\n",
    "        col_df = df.columns.values[3:]\n",
    "        SQL = '''CREATE TABLE if NOT EXISTS {} (\n",
    "        geoid INT PRIMARY KEY, geo_name TEXT)'''.format(table_name)\n",
    "        c.execute(SQL)\n",
    "        conn.commit()\n",
    "        \n",
    "        SQL_alter = \"ALTER TABLE {0} ADD %s %s;\".format(table_name)\n",
    "        c.execute(SQL_alter,(col_df[0],'REAL'))\n",
    "        SQL_insert = \"INSERT INTO {0} VALUES (%s)\".format(table_name)\n",
    "        if len(col_df) == 2:\n",
    "#             SQL = \"ALTER TABLE {} ADD {} {};\".format(table_name,col_df[1],'REAL')\n",
    "            c.execute(SQL_alter,(col_df[0],'REAL'))\n",
    "            SQL_insert = \"INSERT INTO {0} VALUES (%s, %s)\".format(table_name)\n",
    "        else:\n",
    "            print('something has gone wrong.')\n",
    "#         for i in col_df:\n",
    "#             SQL = \"ALTER TABLE {} ADD\".format(t+y)\n",
    "#             SQL = SQL+\" %s %s;\"\n",
    "#             c.execute(SQL,i)\n",
    "        col_df = np.concatenate((['geo','geo_name'],col_df),axis=0)\n",
    "        for i in np.where(df.year == int(y))[0]:\n",
    "            g_vals = tuple(df[col_df][i])\n",
    "            SQL = '''INSERT INTO {} () VALUES (%s);'''.format(t+y)\n",
    "            c.execute(SQL,gvals)"
   ]
  },
  {
   "cell_type": "code",
   "execution_count": 175,
   "metadata": {
    "scrolled": true
   },
   "outputs": [
    {
     "name": "stdout",
     "output_type": "stream",
     "text": [
      "median_property_value\n",
      "median_property_value_moe\n",
      "high_school_graduation\n",
      "teen_births\n",
      "uninsured_adults\n",
      "unemployment\n",
      "income\n",
      "income_moe\n",
      "income_rank\n",
      "mean_commute_minutes\n",
      "child_mortality\n",
      "population_living_in_a_rural_area\n",
      "hiv_prevalence_rate\n"
     ]
    }
   ],
   "source": [
    "for d in dir_list:\n",
    "    fp = '../assets/classification/'+d\n",
    "    temp = pd.read_csv(fp)\n",
    "    for j in temp.columns[3:]:\n",
    "        print(j)"
   ]
  },
  {
   "cell_type": "code",
   "execution_count": 148,
   "metadata": {},
   "outputs": [
    {
     "ename": "AttributeError",
     "evalue": "'numpy.ndarray' object has no attribute 'append'",
     "output_type": "error",
     "traceback": [
      "\u001b[0;31m---------------------------------------------------------------------------\u001b[0m",
      "\u001b[0;31mAttributeError\u001b[0m                            Traceback (most recent call last)",
      "\u001b[0;32m<ipython-input-148-8b7a79c9efa7>\u001b[0m in \u001b[0;36m<module>\u001b[0;34m()\u001b[0m\n\u001b[1;32m      1\u001b[0m \u001b[0mi\u001b[0m \u001b[0;34m=\u001b[0m \u001b[0mnp\u001b[0m\u001b[0;34m.\u001b[0m\u001b[0mwhere\u001b[0m\u001b[0;34m(\u001b[0m\u001b[0mdf2\u001b[0m\u001b[0;34m.\u001b[0m\u001b[0myear\u001b[0m \u001b[0;34m==\u001b[0m \u001b[0;36m2016\u001b[0m\u001b[0;34m)\u001b[0m\u001b[0;34m[\u001b[0m\u001b[0;36m0\u001b[0m\u001b[0;34m]\u001b[0m\u001b[0;34m\u001b[0m\u001b[0m\n\u001b[0;32m----> 2\u001b[0;31m \u001b[0mb\u001b[0m \u001b[0;34m=\u001b[0m \u001b[0mdf2\u001b[0m\u001b[0;34m.\u001b[0m\u001b[0mcolumns\u001b[0m\u001b[0;34m.\u001b[0m\u001b[0mvalues\u001b[0m\u001b[0;34m[\u001b[0m\u001b[0;36m3\u001b[0m\u001b[0;34m:\u001b[0m\u001b[0;34m]\u001b[0m\u001b[0;34m.\u001b[0m\u001b[0mappend\u001b[0m\u001b[0;34m(\u001b[0m\u001b[0;34m[\u001b[0m\u001b[0;34m'year'\u001b[0m\u001b[0;34m,\u001b[0m\u001b[0;34m'geo_name'\u001b[0m\u001b[0;34m]\u001b[0m\u001b[0;34m)\u001b[0m\u001b[0;34m\u001b[0m\u001b[0m\n\u001b[0m\u001b[1;32m      3\u001b[0m \u001b[0mdf2\u001b[0m\u001b[0;34m.\u001b[0m\u001b[0mloc\u001b[0m\u001b[0;34m[\u001b[0m\u001b[0mi\u001b[0m\u001b[0;34m[\u001b[0m\u001b[0;36m0\u001b[0m\u001b[0;34m]\u001b[0m\u001b[0;34m]\u001b[0m\u001b[0;34m[\u001b[0m\u001b[0mb\u001b[0m\u001b[0;34m]\u001b[0m\u001b[0;34m\u001b[0m\u001b[0m\n\u001b[1;32m      4\u001b[0m \u001b[0mdf2\u001b[0m\u001b[0;34m.\u001b[0m\u001b[0mcolumns\u001b[0m\u001b[0;34m\u001b[0m\u001b[0m\n",
      "\u001b[0;31mAttributeError\u001b[0m: 'numpy.ndarray' object has no attribute 'append'"
     ]
    }
   ],
   "source": [
    "i = np.where(df2.year == 2016)[0]\n",
    "b = df2.columns.values[3:].append(['year','geo_name'])\n",
    "df2.loc[i[0]][b]\n",
    "df2.columns"
   ]
  },
  {
   "cell_type": "code",
   "execution_count": 260,
   "metadata": {},
   "outputs": [
    {
     "data": {
      "text/plain": [
       "hiv_prevalence_rate    3623.48\n",
       "Name: 1, dtype: object"
      ]
     },
     "execution_count": 260,
     "metadata": {},
     "output_type": "execute_result"
    }
   ],
   "source": [
    "df[col_df].loc[1]"
   ]
  },
  {
   "cell_type": "code",
   "execution_count": 237,
   "metadata": {},
   "outputs": [],
   "source": [
    "SQL = \"ALTER TABLE {0} ADD %s %s;\".format('REAL')"
   ]
  },
  {
   "cell_type": "code",
   "execution_count": 266,
   "metadata": {},
   "outputs": [
    {
     "data": {
      "text/plain": [
       "('Kemper County', '05000US28069')"
      ]
     },
     "execution_count": 266,
     "metadata": {},
     "output_type": "execute_result"
    }
   ],
   "source": [
    "tuple(df2[['geo_name','geo']].loc[0])"
   ]
  },
  {
   "cell_type": "code",
   "execution_count": 261,
   "metadata": {},
   "outputs": [
    {
     "data": {
      "text/plain": [
       "array(['hiv_prevalence_rate'], dtype=object)"
      ]
     },
     "execution_count": 261,
     "metadata": {},
     "output_type": "execute_result"
    }
   ],
   "source": [
    "col_df"
   ]
  },
  {
   "cell_type": "code",
   "execution_count": null,
   "metadata": {
    "collapsed": true
   },
   "outputs": [],
   "source": []
  }
 ],
 "metadata": {
  "kernelspec": {
   "display_name": "Python 3",
   "language": "python",
   "name": "python3"
  },
  "language_info": {
   "codemirror_mode": {
    "name": "ipython",
    "version": 3
   },
   "file_extension": ".py",
   "mimetype": "text/x-python",
   "name": "python",
   "nbconvert_exporter": "python",
   "pygments_lexer": "ipython3",
   "version": "3.6.1"
  }
 },
 "nbformat": 4,
 "nbformat_minor": 2
}
