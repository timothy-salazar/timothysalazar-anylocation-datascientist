{
 "cells": [
  {
   "cell_type": "code",
   "execution_count": 2,
   "metadata": {
    "collapsed": true
   },
   "outputs": [],
   "source": [
    "import matplotlib.pyplot as plt\n",
    "import pandas as pd\n",
    "import numpy as np\n",
    "%matplotlib inline"
   ]
  },
  {
   "cell_type": "code",
   "execution_count": 22,
   "metadata": {},
   "outputs": [
    {
     "data": {
      "text/plain": [
       "['Data USA - Map of Median Property Value by County.csv',\n",
       " 'Data USA - Map of High School Graduation by County.csv',\n",
       " 'Data USA - Map of Teen Births (Age 15-19) per 1,000 People by County.csv',\n",
       " 'Data USA - Map of Percent Uninsured (Adults) by County.csv',\n",
       " 'Data USA - Map of Unemployment by County.csv',\n",
       " 'Data USA - Map of Median Household Income by County.csv',\n",
       " 'Data USA - Map of Average Travel Time by County.csv',\n",
       " 'Data USA - Map of Child Mortality per 100,000 People by County.csv',\n",
       " 'Data USA - Map of Rural Population by County.csv',\n",
       " 'Data USA - Map of HIV Diagnoses per 100,000 People by County.csv']"
      ]
     },
     "execution_count": 22,
     "metadata": {},
     "output_type": "execute_result"
    }
   ],
   "source": [
    "import os\n",
    "dir_list = os.listdir('../assets/classification')\n",
    "dir_list"
   ]
  },
  {
   "cell_type": "markdown",
   "metadata": {},
   "source": [
    "Let's just take a look so we can get an idea of what we're dealing with.\n",
    "Choosing 2 at random."
   ]
  },
  {
   "cell_type": "code",
   "execution_count": 4,
   "metadata": {},
   "outputs": [
    {
     "data": {
      "text/html": [
       "<div>\n",
       "<style>\n",
       "    .dataframe thead tr:only-child th {\n",
       "        text-align: right;\n",
       "    }\n",
       "\n",
       "    .dataframe thead th {\n",
       "        text-align: left;\n",
       "    }\n",
       "\n",
       "    .dataframe tbody tr th {\n",
       "        vertical-align: top;\n",
       "    }\n",
       "</style>\n",
       "<table border=\"1\" class=\"dataframe\">\n",
       "  <thead>\n",
       "    <tr style=\"text-align: right;\">\n",
       "      <th></th>\n",
       "      <th>year</th>\n",
       "      <th>geo_name</th>\n",
       "      <th>geo</th>\n",
       "      <th>mean_commute_minutes</th>\n",
       "    </tr>\n",
       "  </thead>\n",
       "  <tbody>\n",
       "    <tr>\n",
       "      <th>0</th>\n",
       "      <td>2015</td>\n",
       "      <td>Pike County</td>\n",
       "      <td>05000US42103</td>\n",
       "      <td>42.1331</td>\n",
       "    </tr>\n",
       "    <tr>\n",
       "      <th>1</th>\n",
       "      <td>2015</td>\n",
       "      <td>Bronx County, NY</td>\n",
       "      <td>05000US36005</td>\n",
       "      <td>41.6023</td>\n",
       "    </tr>\n",
       "    <tr>\n",
       "      <th>2</th>\n",
       "      <td>2015</td>\n",
       "      <td>Richmond County, NY</td>\n",
       "      <td>05000US36085</td>\n",
       "      <td>41.5824</td>\n",
       "    </tr>\n",
       "    <tr>\n",
       "      <th>3</th>\n",
       "      <td>2013</td>\n",
       "      <td>Charles County, MD</td>\n",
       "      <td>05000US24017</td>\n",
       "      <td>41.5622</td>\n",
       "    </tr>\n",
       "    <tr>\n",
       "      <th>4</th>\n",
       "      <td>2015</td>\n",
       "      <td>Queens County, NY</td>\n",
       "      <td>05000US36081</td>\n",
       "      <td>41.5550</td>\n",
       "    </tr>\n",
       "  </tbody>\n",
       "</table>\n",
       "</div>"
      ],
      "text/plain": [
       "   year             geo_name           geo  mean_commute_minutes\n",
       "0  2015          Pike County  05000US42103               42.1331\n",
       "1  2015     Bronx County, NY  05000US36005               41.6023\n",
       "2  2015  Richmond County, NY  05000US36085               41.5824\n",
       "3  2013   Charles County, MD  05000US24017               41.5622\n",
       "4  2015    Queens County, NY  05000US36081               41.5550"
      ]
     },
     "execution_count": 4,
     "metadata": {},
     "output_type": "execute_result"
    }
   ],
   "source": [
    "df1 = pd.read_csv('../assets/classification/Data USA - Map of Average Travel Time by County.csv')\n",
    "df1.head()"
   ]
  },
  {
   "cell_type": "code",
   "execution_count": 5,
   "metadata": {},
   "outputs": [
    {
     "data": {
      "text/html": [
       "<div>\n",
       "<style>\n",
       "    .dataframe thead tr:only-child th {\n",
       "        text-align: right;\n",
       "    }\n",
       "\n",
       "    .dataframe thead th {\n",
       "        text-align: left;\n",
       "    }\n",
       "\n",
       "    .dataframe tbody tr th {\n",
       "        vertical-align: top;\n",
       "    }\n",
       "</style>\n",
       "<table border=\"1\" class=\"dataframe\">\n",
       "  <thead>\n",
       "    <tr style=\"text-align: right;\">\n",
       "      <th></th>\n",
       "      <th>year</th>\n",
       "      <th>geo_name</th>\n",
       "      <th>geo</th>\n",
       "      <th>population_living_in_a_rural_area</th>\n",
       "    </tr>\n",
       "  </thead>\n",
       "  <tbody>\n",
       "    <tr>\n",
       "      <th>0</th>\n",
       "      <td>2016</td>\n",
       "      <td>Kemper County</td>\n",
       "      <td>05000US28069</td>\n",
       "      <td>1.0</td>\n",
       "    </tr>\n",
       "    <tr>\n",
       "      <th>1</th>\n",
       "      <td>2015</td>\n",
       "      <td>Kemper County</td>\n",
       "      <td>05000US28069</td>\n",
       "      <td>1.0</td>\n",
       "    </tr>\n",
       "    <tr>\n",
       "      <th>2</th>\n",
       "      <td>2017</td>\n",
       "      <td>Kemper County</td>\n",
       "      <td>05000US28069</td>\n",
       "      <td>1.0</td>\n",
       "    </tr>\n",
       "    <tr>\n",
       "      <th>3</th>\n",
       "      <td>2017</td>\n",
       "      <td>Walthall County</td>\n",
       "      <td>05000US28147</td>\n",
       "      <td>1.0</td>\n",
       "    </tr>\n",
       "    <tr>\n",
       "      <th>4</th>\n",
       "      <td>2016</td>\n",
       "      <td>Walthall County</td>\n",
       "      <td>05000US28147</td>\n",
       "      <td>1.0</td>\n",
       "    </tr>\n",
       "  </tbody>\n",
       "</table>\n",
       "</div>"
      ],
      "text/plain": [
       "   year         geo_name           geo  population_living_in_a_rural_area\n",
       "0  2016    Kemper County  05000US28069                                1.0\n",
       "1  2015    Kemper County  05000US28069                                1.0\n",
       "2  2017    Kemper County  05000US28069                                1.0\n",
       "3  2017  Walthall County  05000US28147                                1.0\n",
       "4  2016  Walthall County  05000US28147                                1.0"
      ]
     },
     "execution_count": 5,
     "metadata": {},
     "output_type": "execute_result"
    }
   ],
   "source": [
    "df2 = pd.read_csv('../assets/classification/Data USA - Map of Rural Population by County.csv')\n",
    "df2.head()"
   ]
  },
  {
   "cell_type": "code",
   "execution_count": 6,
   "metadata": {},
   "outputs": [
    {
     "data": {
      "text/html": [
       "<div>\n",
       "<style>\n",
       "    .dataframe thead tr:only-child th {\n",
       "        text-align: right;\n",
       "    }\n",
       "\n",
       "    .dataframe thead th {\n",
       "        text-align: left;\n",
       "    }\n",
       "\n",
       "    .dataframe tbody tr th {\n",
       "        vertical-align: top;\n",
       "    }\n",
       "</style>\n",
       "<table border=\"1\" class=\"dataframe\">\n",
       "  <thead>\n",
       "    <tr style=\"text-align: right;\">\n",
       "      <th></th>\n",
       "      <th>year</th>\n",
       "      <th>geo_name</th>\n",
       "      <th>geo</th>\n",
       "      <th>population_living_in_a_rural_area</th>\n",
       "    </tr>\n",
       "  </thead>\n",
       "  <tbody>\n",
       "    <tr>\n",
       "      <th>175</th>\n",
       "      <td>2017</td>\n",
       "      <td>Pike County</td>\n",
       "      <td>05000US18125</td>\n",
       "      <td>1.000</td>\n",
       "    </tr>\n",
       "    <tr>\n",
       "      <th>176</th>\n",
       "      <td>2016</td>\n",
       "      <td>Pike County</td>\n",
       "      <td>05000US18125</td>\n",
       "      <td>1.000</td>\n",
       "    </tr>\n",
       "    <tr>\n",
       "      <th>177</th>\n",
       "      <td>2015</td>\n",
       "      <td>Pike County</td>\n",
       "      <td>05000US18125</td>\n",
       "      <td>1.000</td>\n",
       "    </tr>\n",
       "    <tr>\n",
       "      <th>640</th>\n",
       "      <td>2017</td>\n",
       "      <td>Pike County</td>\n",
       "      <td>05000US05109</td>\n",
       "      <td>1.000</td>\n",
       "    </tr>\n",
       "    <tr>\n",
       "      <th>641</th>\n",
       "      <td>2016</td>\n",
       "      <td>Pike County</td>\n",
       "      <td>05000US05109</td>\n",
       "      <td>1.000</td>\n",
       "    </tr>\n",
       "    <tr>\n",
       "      <th>642</th>\n",
       "      <td>2015</td>\n",
       "      <td>Pike County</td>\n",
       "      <td>05000US05109</td>\n",
       "      <td>1.000</td>\n",
       "    </tr>\n",
       "    <tr>\n",
       "      <th>2138</th>\n",
       "      <td>2016</td>\n",
       "      <td>Pike County</td>\n",
       "      <td>05000US13231</td>\n",
       "      <td>0.990</td>\n",
       "    </tr>\n",
       "    <tr>\n",
       "      <th>2139</th>\n",
       "      <td>2017</td>\n",
       "      <td>Pike County</td>\n",
       "      <td>05000US13231</td>\n",
       "      <td>0.990</td>\n",
       "    </tr>\n",
       "    <tr>\n",
       "      <th>2140</th>\n",
       "      <td>2015</td>\n",
       "      <td>Pike County</td>\n",
       "      <td>05000US13231</td>\n",
       "      <td>0.990</td>\n",
       "    </tr>\n",
       "    <tr>\n",
       "      <th>2358</th>\n",
       "      <td>2016</td>\n",
       "      <td>Pike County</td>\n",
       "      <td>05000US21195</td>\n",
       "      <td>0.878</td>\n",
       "    </tr>\n",
       "    <tr>\n",
       "      <th>2361</th>\n",
       "      <td>2015</td>\n",
       "      <td>Pike County</td>\n",
       "      <td>05000US21195</td>\n",
       "      <td>0.878</td>\n",
       "    </tr>\n",
       "    <tr>\n",
       "      <th>2362</th>\n",
       "      <td>2017</td>\n",
       "      <td>Pike County</td>\n",
       "      <td>05000US21195</td>\n",
       "      <td>0.878</td>\n",
       "    </tr>\n",
       "    <tr>\n",
       "      <th>3234</th>\n",
       "      <td>2016</td>\n",
       "      <td>Pike County</td>\n",
       "      <td>05000US39131</td>\n",
       "      <td>0.742</td>\n",
       "    </tr>\n",
       "    <tr>\n",
       "      <th>3235</th>\n",
       "      <td>2017</td>\n",
       "      <td>Pike County</td>\n",
       "      <td>05000US39131</td>\n",
       "      <td>0.742</td>\n",
       "    </tr>\n",
       "    <tr>\n",
       "      <th>3236</th>\n",
       "      <td>2015</td>\n",
       "      <td>Pike County</td>\n",
       "      <td>05000US39131</td>\n",
       "      <td>0.742</td>\n",
       "    </tr>\n",
       "    <tr>\n",
       "      <th>3416</th>\n",
       "      <td>2017</td>\n",
       "      <td>Pike County</td>\n",
       "      <td>05000US17149</td>\n",
       "      <td>0.723</td>\n",
       "    </tr>\n",
       "    <tr>\n",
       "      <th>3417</th>\n",
       "      <td>2016</td>\n",
       "      <td>Pike County</td>\n",
       "      <td>05000US17149</td>\n",
       "      <td>0.723</td>\n",
       "    </tr>\n",
       "    <tr>\n",
       "      <th>3424</th>\n",
       "      <td>2015</td>\n",
       "      <td>Pike County</td>\n",
       "      <td>05000US17149</td>\n",
       "      <td>0.723</td>\n",
       "    </tr>\n",
       "    <tr>\n",
       "      <th>3551</th>\n",
       "      <td>2016</td>\n",
       "      <td>Pike County</td>\n",
       "      <td>05000US42103</td>\n",
       "      <td>0.708</td>\n",
       "    </tr>\n",
       "    <tr>\n",
       "      <th>3562</th>\n",
       "      <td>2017</td>\n",
       "      <td>Pike County</td>\n",
       "      <td>05000US42103</td>\n",
       "      <td>0.708</td>\n",
       "    </tr>\n",
       "    <tr>\n",
       "      <th>3563</th>\n",
       "      <td>2015</td>\n",
       "      <td>Pike County</td>\n",
       "      <td>05000US42103</td>\n",
       "      <td>0.708</td>\n",
       "    </tr>\n",
       "    <tr>\n",
       "      <th>4722</th>\n",
       "      <td>2015</td>\n",
       "      <td>Pike County</td>\n",
       "      <td>05000US28113</td>\n",
       "      <td>0.594</td>\n",
       "    </tr>\n",
       "    <tr>\n",
       "      <th>4723</th>\n",
       "      <td>2017</td>\n",
       "      <td>Pike County</td>\n",
       "      <td>05000US28113</td>\n",
       "      <td>0.594</td>\n",
       "    </tr>\n",
       "    <tr>\n",
       "      <th>4726</th>\n",
       "      <td>2016</td>\n",
       "      <td>Pike County</td>\n",
       "      <td>05000US28113</td>\n",
       "      <td>0.594</td>\n",
       "    </tr>\n",
       "    <tr>\n",
       "      <th>5204</th>\n",
       "      <td>2017</td>\n",
       "      <td>Pike County</td>\n",
       "      <td>05000US29163</td>\n",
       "      <td>0.544</td>\n",
       "    </tr>\n",
       "    <tr>\n",
       "      <th>5211</th>\n",
       "      <td>2016</td>\n",
       "      <td>Pike County</td>\n",
       "      <td>05000US29163</td>\n",
       "      <td>0.544</td>\n",
       "    </tr>\n",
       "    <tr>\n",
       "      <th>5215</th>\n",
       "      <td>2015</td>\n",
       "      <td>Pike County</td>\n",
       "      <td>05000US29163</td>\n",
       "      <td>0.544</td>\n",
       "    </tr>\n",
       "    <tr>\n",
       "      <th>5469</th>\n",
       "      <td>2016</td>\n",
       "      <td>Pike County</td>\n",
       "      <td>05000US01109</td>\n",
       "      <td>0.517</td>\n",
       "    </tr>\n",
       "    <tr>\n",
       "      <th>5471</th>\n",
       "      <td>2015</td>\n",
       "      <td>Pike County</td>\n",
       "      <td>05000US01109</td>\n",
       "      <td>0.517</td>\n",
       "    </tr>\n",
       "    <tr>\n",
       "      <th>5472</th>\n",
       "      <td>2017</td>\n",
       "      <td>Pike County</td>\n",
       "      <td>05000US01109</td>\n",
       "      <td>0.517</td>\n",
       "    </tr>\n",
       "  </tbody>\n",
       "</table>\n",
       "</div>"
      ],
      "text/plain": [
       "      year     geo_name           geo  population_living_in_a_rural_area\n",
       "175   2017  Pike County  05000US18125                              1.000\n",
       "176   2016  Pike County  05000US18125                              1.000\n",
       "177   2015  Pike County  05000US18125                              1.000\n",
       "640   2017  Pike County  05000US05109                              1.000\n",
       "641   2016  Pike County  05000US05109                              1.000\n",
       "642   2015  Pike County  05000US05109                              1.000\n",
       "2138  2016  Pike County  05000US13231                              0.990\n",
       "2139  2017  Pike County  05000US13231                              0.990\n",
       "2140  2015  Pike County  05000US13231                              0.990\n",
       "2358  2016  Pike County  05000US21195                              0.878\n",
       "2361  2015  Pike County  05000US21195                              0.878\n",
       "2362  2017  Pike County  05000US21195                              0.878\n",
       "3234  2016  Pike County  05000US39131                              0.742\n",
       "3235  2017  Pike County  05000US39131                              0.742\n",
       "3236  2015  Pike County  05000US39131                              0.742\n",
       "3416  2017  Pike County  05000US17149                              0.723\n",
       "3417  2016  Pike County  05000US17149                              0.723\n",
       "3424  2015  Pike County  05000US17149                              0.723\n",
       "3551  2016  Pike County  05000US42103                              0.708\n",
       "3562  2017  Pike County  05000US42103                              0.708\n",
       "3563  2015  Pike County  05000US42103                              0.708\n",
       "4722  2015  Pike County  05000US28113                              0.594\n",
       "4723  2017  Pike County  05000US28113                              0.594\n",
       "4726  2016  Pike County  05000US28113                              0.594\n",
       "5204  2017  Pike County  05000US29163                              0.544\n",
       "5211  2016  Pike County  05000US29163                              0.544\n",
       "5215  2015  Pike County  05000US29163                              0.544\n",
       "5469  2016  Pike County  05000US01109                              0.517\n",
       "5471  2015  Pike County  05000US01109                              0.517\n",
       "5472  2017  Pike County  05000US01109                              0.517"
      ]
     },
     "execution_count": 6,
     "metadata": {},
     "output_type": "execute_result"
    }
   ],
   "source": [
    "df2.loc[np.where(df2.geo_name == 'Pike County')]"
   ]
  },
  {
   "cell_type": "code",
   "execution_count": 7,
   "metadata": {
    "scrolled": true
   },
   "outputs": [
    {
     "data": {
      "text/html": [
       "<div>\n",
       "<style>\n",
       "    .dataframe thead tr:only-child th {\n",
       "        text-align: right;\n",
       "    }\n",
       "\n",
       "    .dataframe thead th {\n",
       "        text-align: left;\n",
       "    }\n",
       "\n",
       "    .dataframe tbody tr th {\n",
       "        vertical-align: top;\n",
       "    }\n",
       "</style>\n",
       "<table border=\"1\" class=\"dataframe\">\n",
       "  <thead>\n",
       "    <tr style=\"text-align: right;\">\n",
       "      <th></th>\n",
       "      <th>year</th>\n",
       "      <th>geo_name</th>\n",
       "      <th>geo</th>\n",
       "      <th>population_living_in_a_rural_area</th>\n",
       "      <th>STATEFP</th>\n",
       "      <th>COUNTYFP</th>\n",
       "    </tr>\n",
       "  </thead>\n",
       "  <tbody>\n",
       "    <tr>\n",
       "      <th>0</th>\n",
       "      <td>2016</td>\n",
       "      <td>Kemper County</td>\n",
       "      <td>05000US28069</td>\n",
       "      <td>1.0</td>\n",
       "      <td>28</td>\n",
       "      <td>069</td>\n",
       "    </tr>\n",
       "    <tr>\n",
       "      <th>1</th>\n",
       "      <td>2015</td>\n",
       "      <td>Kemper County</td>\n",
       "      <td>05000US28069</td>\n",
       "      <td>1.0</td>\n",
       "      <td>28</td>\n",
       "      <td>069</td>\n",
       "    </tr>\n",
       "    <tr>\n",
       "      <th>2</th>\n",
       "      <td>2017</td>\n",
       "      <td>Kemper County</td>\n",
       "      <td>05000US28069</td>\n",
       "      <td>1.0</td>\n",
       "      <td>28</td>\n",
       "      <td>069</td>\n",
       "    </tr>\n",
       "    <tr>\n",
       "      <th>3</th>\n",
       "      <td>2017</td>\n",
       "      <td>Walthall County</td>\n",
       "      <td>05000US28147</td>\n",
       "      <td>1.0</td>\n",
       "      <td>28</td>\n",
       "      <td>147</td>\n",
       "    </tr>\n",
       "    <tr>\n",
       "      <th>4</th>\n",
       "      <td>2016</td>\n",
       "      <td>Walthall County</td>\n",
       "      <td>05000US28147</td>\n",
       "      <td>1.0</td>\n",
       "      <td>28</td>\n",
       "      <td>147</td>\n",
       "    </tr>\n",
       "  </tbody>\n",
       "</table>\n",
       "</div>"
      ],
      "text/plain": [
       "   year         geo_name           geo  population_living_in_a_rural_area  \\\n",
       "0  2016    Kemper County  05000US28069                                1.0   \n",
       "1  2015    Kemper County  05000US28069                                1.0   \n",
       "2  2017    Kemper County  05000US28069                                1.0   \n",
       "3  2017  Walthall County  05000US28147                                1.0   \n",
       "4  2016  Walthall County  05000US28147                                1.0   \n",
       "\n",
       "  STATEFP COUNTYFP  \n",
       "0      28      069  \n",
       "1      28      069  \n",
       "2      28      069  \n",
       "3      28      147  \n",
       "4      28      147  "
      ]
     },
     "execution_count": 7,
     "metadata": {},
     "output_type": "execute_result"
    }
   ],
   "source": [
    "def make_fips_cols(df,g='geo'):\n",
    "    # 05000US prefix is 7 characters long, so we can neatly cut out \n",
    "    # the 2 character state and 3 character county codes. \n",
    "    try:\n",
    "        df['STATEFP'] = [i[7:9] for i in df[g]]\n",
    "        df['COUNTYFP'] = [i[9:13] for i in df[g]]\n",
    "        return df\n",
    "    except IndexError:\n",
    "        print('This file has an incorrect format')\n",
    "df2 = make_fips_cols(df2)\n",
    "df2.head()"
   ]
  },
  {
   "cell_type": "code",
   "execution_count": 8,
   "metadata": {
    "collapsed": true
   },
   "outputs": [],
   "source": [
    "import geopandas as gpd\n",
    "fp = '../assets/us_5m/cb_2016_us_county_5m.shp'\n",
    "gdf = gpd.read_file(fp)"
   ]
  },
  {
   "cell_type": "code",
   "execution_count": 9,
   "metadata": {},
   "outputs": [
    {
     "data": {
      "text/html": [
       "<div>\n",
       "<style>\n",
       "    .dataframe thead tr:only-child th {\n",
       "        text-align: right;\n",
       "    }\n",
       "\n",
       "    .dataframe thead th {\n",
       "        text-align: left;\n",
       "    }\n",
       "\n",
       "    .dataframe tbody tr th {\n",
       "        vertical-align: top;\n",
       "    }\n",
       "</style>\n",
       "<table border=\"1\" class=\"dataframe\">\n",
       "  <thead>\n",
       "    <tr style=\"text-align: right;\">\n",
       "      <th></th>\n",
       "      <th>STATEFP</th>\n",
       "      <th>COUNTYFP</th>\n",
       "      <th>COUNTYNS</th>\n",
       "      <th>AFFGEOID</th>\n",
       "      <th>GEOID</th>\n",
       "      <th>NAME</th>\n",
       "      <th>LSAD</th>\n",
       "      <th>ALAND</th>\n",
       "      <th>AWATER</th>\n",
       "      <th>geometry</th>\n",
       "    </tr>\n",
       "  </thead>\n",
       "  <tbody>\n",
       "    <tr>\n",
       "      <th>0</th>\n",
       "      <td>04</td>\n",
       "      <td>015</td>\n",
       "      <td>00025445</td>\n",
       "      <td>0500000US04015</td>\n",
       "      <td>04015</td>\n",
       "      <td>Mohave</td>\n",
       "      <td>06</td>\n",
       "      <td>34475567011</td>\n",
       "      <td>387344307</td>\n",
       "      <td>POLYGON ((-114.755618 36.087166, -114.753638 3...</td>\n",
       "    </tr>\n",
       "    <tr>\n",
       "      <th>1</th>\n",
       "      <td>12</td>\n",
       "      <td>035</td>\n",
       "      <td>00308547</td>\n",
       "      <td>0500000US12035</td>\n",
       "      <td>12035</td>\n",
       "      <td>Flagler</td>\n",
       "      <td>06</td>\n",
       "      <td>1257365642</td>\n",
       "      <td>221047161</td>\n",
       "      <td>POLYGON ((-81.52365999999999 29.622432, -81.32...</td>\n",
       "    </tr>\n",
       "    <tr>\n",
       "      <th>2</th>\n",
       "      <td>20</td>\n",
       "      <td>129</td>\n",
       "      <td>00485135</td>\n",
       "      <td>0500000US20129</td>\n",
       "      <td>20129</td>\n",
       "      <td>Morton</td>\n",
       "      <td>06</td>\n",
       "      <td>1889993251</td>\n",
       "      <td>507796</td>\n",
       "      <td>POLYGON ((-102.041952 37.024742, -102.04195 37...</td>\n",
       "    </tr>\n",
       "    <tr>\n",
       "      <th>3</th>\n",
       "      <td>28</td>\n",
       "      <td>093</td>\n",
       "      <td>00695770</td>\n",
       "      <td>0500000US28093</td>\n",
       "      <td>28093</td>\n",
       "      <td>Marshall</td>\n",
       "      <td>06</td>\n",
       "      <td>1828989833</td>\n",
       "      <td>9195190</td>\n",
       "      <td>POLYGON ((-89.7243244282036 34.9952117286505, ...</td>\n",
       "    </tr>\n",
       "    <tr>\n",
       "      <th>4</th>\n",
       "      <td>29</td>\n",
       "      <td>510</td>\n",
       "      <td>00767557</td>\n",
       "      <td>0500000US29510</td>\n",
       "      <td>29510</td>\n",
       "      <td>St. Louis</td>\n",
       "      <td>25</td>\n",
       "      <td>160458044</td>\n",
       "      <td>10670040</td>\n",
       "      <td>POLYGON ((-90.318212 38.600017, -90.301828 38....</td>\n",
       "    </tr>\n",
       "  </tbody>\n",
       "</table>\n",
       "</div>"
      ],
      "text/plain": [
       "  STATEFP COUNTYFP  COUNTYNS        AFFGEOID  GEOID       NAME LSAD  \\\n",
       "0      04      015  00025445  0500000US04015  04015     Mohave   06   \n",
       "1      12      035  00308547  0500000US12035  12035    Flagler   06   \n",
       "2      20      129  00485135  0500000US20129  20129     Morton   06   \n",
       "3      28      093  00695770  0500000US28093  28093   Marshall   06   \n",
       "4      29      510  00767557  0500000US29510  29510  St. Louis   25   \n",
       "\n",
       "         ALAND     AWATER                                           geometry  \n",
       "0  34475567011  387344307  POLYGON ((-114.755618 36.087166, -114.753638 3...  \n",
       "1   1257365642  221047161  POLYGON ((-81.52365999999999 29.622432, -81.32...  \n",
       "2   1889993251     507796  POLYGON ((-102.041952 37.024742, -102.04195 37...  \n",
       "3   1828989833    9195190  POLYGON ((-89.7243244282036 34.9952117286505, ...  \n",
       "4    160458044   10670040  POLYGON ((-90.318212 38.600017, -90.301828 38....  "
      ]
     },
     "execution_count": 9,
     "metadata": {},
     "output_type": "execute_result"
    }
   ],
   "source": [
    "gdf.head()"
   ]
  },
  {
   "cell_type": "markdown",
   "metadata": {},
   "source": [
    "This isn't really necessary, I could build a classification model without digging into the guts of this, but I'd like to be able to visualize what's going on.\n",
    "\n",
    "Plus, it's a chance for me to show off my GIS background"
   ]
  },
  {
   "cell_type": "code",
   "execution_count": 10,
   "metadata": {},
   "outputs": [
    {
     "data": {
      "text/plain": [
       "<matplotlib.axes._subplots.AxesSubplot at 0x11b987ba8>"
      ]
     },
     "execution_count": 10,
     "metadata": {},
     "output_type": "execute_result"
    },
    {
     "data": {
      "image/png": "[encoded data removed]",
      "text/plain": [
       "<matplotlib.figure.Figure at 0x119a1b6a0>"
      ]
     },
     "metadata": {},
     "output_type": "display_data"
    }
   ],
   "source": [
    "gdf.plot()"
   ]
  },
  {
   "cell_type": "code",
   "execution_count": 11,
   "metadata": {},
   "outputs": [
    {
     "data": {
      "text/html": [
       "<div>\n",
       "<style>\n",
       "    .dataframe thead tr:only-child th {\n",
       "        text-align: right;\n",
       "    }\n",
       "\n",
       "    .dataframe thead th {\n",
       "        text-align: left;\n",
       "    }\n",
       "\n",
       "    .dataframe tbody tr th {\n",
       "        vertical-align: top;\n",
       "    }\n",
       "</style>\n",
       "<table border=\"1\" class=\"dataframe\">\n",
       "  <thead>\n",
       "    <tr style=\"text-align: right;\">\n",
       "      <th></th>\n",
       "      <th>STATEFP</th>\n",
       "      <th>COUNTYFP</th>\n",
       "      <th>COUNTYNS</th>\n",
       "      <th>AFFGEOID</th>\n",
       "      <th>GEOID</th>\n",
       "      <th>NAME</th>\n",
       "      <th>LSAD</th>\n",
       "      <th>ALAND</th>\n",
       "      <th>AWATER</th>\n",
       "      <th>geometry</th>\n",
       "      <th>year</th>\n",
       "      <th>geo_name</th>\n",
       "      <th>geo</th>\n",
       "      <th>population_living_in_a_rural_area</th>\n",
       "    </tr>\n",
       "  </thead>\n",
       "  <tbody>\n",
       "    <tr>\n",
       "      <th>0</th>\n",
       "      <td>04</td>\n",
       "      <td>015</td>\n",
       "      <td>00025445</td>\n",
       "      <td>0500000US04015</td>\n",
       "      <td>04015</td>\n",
       "      <td>Mohave</td>\n",
       "      <td>06</td>\n",
       "      <td>34475567011</td>\n",
       "      <td>387344307</td>\n",
       "      <td>POLYGON ((-114.755618 36.087166, -114.753638 3...</td>\n",
       "      <td>2016</td>\n",
       "      <td>Mohave County, AZ</td>\n",
       "      <td>05000US04015</td>\n",
       "      <td>0.230</td>\n",
       "    </tr>\n",
       "    <tr>\n",
       "      <th>1</th>\n",
       "      <td>04</td>\n",
       "      <td>015</td>\n",
       "      <td>00025445</td>\n",
       "      <td>0500000US04015</td>\n",
       "      <td>04015</td>\n",
       "      <td>Mohave</td>\n",
       "      <td>06</td>\n",
       "      <td>34475567011</td>\n",
       "      <td>387344307</td>\n",
       "      <td>POLYGON ((-114.755618 36.087166, -114.753638 3...</td>\n",
       "      <td>2017</td>\n",
       "      <td>Mohave County, AZ</td>\n",
       "      <td>05000US04015</td>\n",
       "      <td>0.230</td>\n",
       "    </tr>\n",
       "    <tr>\n",
       "      <th>2</th>\n",
       "      <td>04</td>\n",
       "      <td>015</td>\n",
       "      <td>00025445</td>\n",
       "      <td>0500000US04015</td>\n",
       "      <td>04015</td>\n",
       "      <td>Mohave</td>\n",
       "      <td>06</td>\n",
       "      <td>34475567011</td>\n",
       "      <td>387344307</td>\n",
       "      <td>POLYGON ((-114.755618 36.087166, -114.753638 3...</td>\n",
       "      <td>2015</td>\n",
       "      <td>Mohave County, AZ</td>\n",
       "      <td>05000US04015</td>\n",
       "      <td>0.230</td>\n",
       "    </tr>\n",
       "    <tr>\n",
       "      <th>3</th>\n",
       "      <td>12</td>\n",
       "      <td>035</td>\n",
       "      <td>00308547</td>\n",
       "      <td>0500000US12035</td>\n",
       "      <td>12035</td>\n",
       "      <td>Flagler</td>\n",
       "      <td>06</td>\n",
       "      <td>1257365642</td>\n",
       "      <td>221047161</td>\n",
       "      <td>POLYGON ((-81.52365999999999 29.622432, -81.32...</td>\n",
       "      <td>2017</td>\n",
       "      <td>Flagler County</td>\n",
       "      <td>05000US12035</td>\n",
       "      <td>0.103</td>\n",
       "    </tr>\n",
       "    <tr>\n",
       "      <th>4</th>\n",
       "      <td>12</td>\n",
       "      <td>035</td>\n",
       "      <td>00308547</td>\n",
       "      <td>0500000US12035</td>\n",
       "      <td>12035</td>\n",
       "      <td>Flagler</td>\n",
       "      <td>06</td>\n",
       "      <td>1257365642</td>\n",
       "      <td>221047161</td>\n",
       "      <td>POLYGON ((-81.52365999999999 29.622432, -81.32...</td>\n",
       "      <td>2016</td>\n",
       "      <td>Flagler County</td>\n",
       "      <td>05000US12035</td>\n",
       "      <td>0.103</td>\n",
       "    </tr>\n",
       "  </tbody>\n",
       "</table>\n",
       "</div>"
      ],
      "text/plain": [
       "  STATEFP COUNTYFP  COUNTYNS        AFFGEOID  GEOID     NAME LSAD  \\\n",
       "0      04      015  00025445  0500000US04015  04015   Mohave   06   \n",
       "1      04      015  00025445  0500000US04015  04015   Mohave   06   \n",
       "2      04      015  00025445  0500000US04015  04015   Mohave   06   \n",
       "3      12      035  00308547  0500000US12035  12035  Flagler   06   \n",
       "4      12      035  00308547  0500000US12035  12035  Flagler   06   \n",
       "\n",
       "         ALAND     AWATER                                           geometry  \\\n",
       "0  34475567011  387344307  POLYGON ((-114.755618 36.087166, -114.753638 3...   \n",
       "1  34475567011  387344307  POLYGON ((-114.755618 36.087166, -114.753638 3...   \n",
       "2  34475567011  387344307  POLYGON ((-114.755618 36.087166, -114.753638 3...   \n",
       "3   1257365642  221047161  POLYGON ((-81.52365999999999 29.622432, -81.32...   \n",
       "4   1257365642  221047161  POLYGON ((-81.52365999999999 29.622432, -81.32...   \n",
       "\n",
       "   year           geo_name           geo  population_living_in_a_rural_area  \n",
       "0  2016  Mohave County, AZ  05000US04015                              0.230  \n",
       "1  2017  Mohave County, AZ  05000US04015                              0.230  \n",
       "2  2015  Mohave County, AZ  05000US04015                              0.230  \n",
       "3  2017     Flagler County  05000US12035                              0.103  \n",
       "4  2016     Flagler County  05000US12035                              0.103  "
      ]
     },
     "execution_count": 11,
     "metadata": {},
     "output_type": "execute_result"
    }
   ],
   "source": [
    "# could have made a 'GEOID' column by crunching the two columns together\n",
    "gdf = gdf.merge(df2, on=['STATEFP','COUNTYFP'])\n",
    "gdf.head()"
   ]
  },
  {
   "cell_type": "markdown",
   "metadata": {},
   "source": [
    "OK - everything went well, let's bring in the other dataframes"
   ]
  },
  {
   "cell_type": "markdown",
   "metadata": {},
   "source": [
    "We have 10 tables, each with about 10,000 entries each. This might be a good place to use Spark."
   ]
  },
  {
   "cell_type": "code",
   "execution_count": 12,
   "metadata": {
    "collapsed": true
   },
   "outputs": [],
   "source": [
    "import pyspark as ps\n",
    "\n",
    "spark = ps.sql.SparkSession.builder \\\n",
    "            .master(\"local[4]\") \\\n",
    "            .appName(\"df challenge\") \\\n",
    "            .getOrCreate()"
   ]
  },
  {
   "cell_type": "code",
   "execution_count": 13,
   "metadata": {},
   "outputs": [
    {
     "name": "stdout",
     "output_type": "stream",
     "text": [
      "spark context loaded successfully\n"
     ]
    }
   ],
   "source": [
    "sc = spark.sparkContext \n",
    "print(\"spark context loaded successfully\")"
   ]
  },
  {
   "cell_type": "code",
   "execution_count": 14,
   "metadata": {},
   "outputs": [
    {
     "data": {
      "text/html": [
       "\n",
       "            <div>\n",
       "                <p><b>SparkSession - in-memory</b></p>\n",
       "                \n",
       "        <div>\n",
       "            <p><b>SparkContext</b></p>\n",
       "\n",
       "            <p><a href=\"http://192.168.10.101:4041\">Spark UI</a></p>\n",
       "\n",
       "            <dl>\n",
       "              <dt>Version</dt>\n",
       "                <dd><code>v2.2.0</code></dd>\n",
       "              <dt>Master</dt>\n",
       "                <dd><code>local[4]</code></dd>\n",
       "              <dt>AppName</dt>\n",
       "                <dd><code>df challenge</code></dd>\n",
       "            </dl>\n",
       "        </div>\n",
       "        \n",
       "            </div>\n",
       "        "
      ],
      "text/plain": [
       "<pyspark.sql.session.SparkSession at 0x11baf3400>"
      ]
     },
     "execution_count": 14,
     "metadata": {},
     "output_type": "execute_result"
    }
   ],
   "source": [
    "spark"
   ]
  },
  {
   "cell_type": "code",
   "execution_count": 15,
   "metadata": {},
   "outputs": [
    {
     "data": {
      "text/plain": [
       "6"
      ]
     },
     "execution_count": 15,
     "metadata": {},
     "output_type": "execute_result"
    }
   ],
   "source": [
    "df_spark = sc.parallelize(df2)\n",
    "df_spark.count()"
   ]
  },
  {
   "cell_type": "code",
   "execution_count": 16,
   "metadata": {},
   "outputs": [
    {
     "data": {
      "text/plain": [
       "pyspark.rdd.RDD"
      ]
     },
     "execution_count": 16,
     "metadata": {},
     "output_type": "execute_result"
    }
   ],
   "source": [
    "type(df_spark)"
   ]
  },
  {
   "cell_type": "code",
   "execution_count": 17,
   "metadata": {},
   "outputs": [
    {
     "name": "stdout",
     "output_type": "stream",
     "text": [
      "+----+---------------+------------+---------------------------------+-------+--------+\n",
      "|year|       geo_name|         geo|population_living_in_a_rural_area|STATEFP|COUNTYFP|\n",
      "+----+---------------+------------+---------------------------------+-------+--------+\n",
      "|2016|  Kemper County|05000US28069|                              1.0|     28|     069|\n",
      "|2015|  Kemper County|05000US28069|                              1.0|     28|     069|\n",
      "|2017|  Kemper County|05000US28069|                              1.0|     28|     069|\n",
      "|2017|Walthall County|05000US28147|                              1.0|     28|     147|\n",
      "|2016|Walthall County|05000US28147|                              1.0|     28|     147|\n",
      "|2015| Carroll County|05000US28015|                              1.0|     28|     015|\n",
      "|2015|    Polk County|05000US47139|                              1.0|     47|     139|\n",
      "|2016| Pickett County|05000US47137|                              1.0|     47|     137|\n",
      "|2015| Pickett County|05000US47137|                              1.0|     47|     137|\n",
      "|2017| Pickett County|05000US47137|                              1.0|     47|     137|\n",
      "|2017|   Perry County|05000US47135|                              1.0|     47|     135|\n",
      "|2015|   Perry County|05000US47135|                              1.0|     47|     135|\n",
      "|2016|   Perry County|05000US47135|                              1.0|     47|     135|\n",
      "|2016| Choctaw County|05000US28019|                              1.0|     28|     019|\n",
      "|2017| Choctaw County|05000US28019|                              1.0|     28|     019|\n",
      "|2015|  Benton County|05000US18007|                              1.0|     18|     007|\n",
      "|2017|  Benton County|05000US18007|                              1.0|     18|     007|\n",
      "|2016|  Benton County|05000US18007|                              1.0|     18|     007|\n",
      "|2016|    Hyde County|05000US46069|                              1.0|     46|     069|\n",
      "|2015|    Hyde County|05000US46069|                              1.0|     46|     069|\n",
      "+----+---------------+------------+---------------------------------+-------+--------+\n",
      "only showing top 20 rows\n",
      "\n"
     ]
    }
   ],
   "source": [
    "from pyspark.sql import SQLContext\n",
    "sql_ctx = SQLContext(sc)\n",
    "sql_ctx.createDataFrame(df2).show()"
   ]
  },
  {
   "cell_type": "markdown",
   "metadata": {},
   "source": [
    "Awesome - now let's see if we can use this to handle the 10 datasets"
   ]
  },
  {
   "cell_type": "markdown",
   "metadata": {},
   "source": [
    "Let's make a list of the columns we care aboue:"
   ]
  },
  {
   "cell_type": "code",
   "execution_count": 23,
   "metadata": {
    "collapsed": true
   },
   "outputs": [
    {
     "name": "stdout",
     "output_type": "stream",
     "text": [
      "      year            geo_name           geo median_property_value  \\\n",
      "6452  2014      Houston County  05000US47083               92000.0   \n",
      "4183  2015  Switzerland County  05000US18155              119100.0   \n",
      "6046  2014       Taylor County  05000US21217               96300.0   \n",
      "7135  2015         Holt County  05000US29087               86200.0   \n",
      "2685  2013       Oconto County  05000US55083              147700.0   \n",
      "\n",
      "     median_property_value_moe  \n",
      "6452                    5867.0  \n",
      "4183                    9963.0  \n",
      "6046                    5166.0  \n",
      "7135                    4185.0  \n",
      "2685                    3518.0  \n",
      "      year           geo_name           geo high_school_graduation\n",
      "2016  2016  Shenandoah County  05000US51171                   0.91\n",
      "7844  2015     Coahoma County  05000US28027                  0.608\n",
      "1522  2016    Campbell County  05000US21037                  0.924\n",
      "8156  2017      Arthur County  05000US31005                   None\n",
      "2528  2016   Limestone County  05000US01083                  0.898\n",
      "      year          geo_name           geo teen_births\n",
      "5064  2017  Scott County, IA  05000US19163        36.7\n",
      "8579  2017  Lafayette County  05000US28071        15.4\n",
      "144   2016       Lake County  05000US47095        90.0\n",
      "5964  2015  Nez Perce County  05000US16069        31.7\n",
      "8326  2016  Anoka County, MN  05000US27003        17.5\n",
      "      year             geo_name           geo uninsured_adults\n",
      "7063  2017        Butler County  05000US21031            0.147\n",
      "653   2015          Rusk County  05000US48401              0.3\n",
      "2555  2017         Barry County  05000US29009            0.239\n",
      "8767  2016   Stearns County, MN  05000US27145            0.105\n",
      "5366  2017  Guilford County, NC  05000US37081            0.183\n",
      "      year              geo_name           geo unemployment\n",
      "3329  2016           Clay County  05000US18021        0.069\n",
      "9131  2015    Shackelford County  05000US48417        0.028\n",
      "2985  2015    Fayette County, GA  05000US13113        0.072\n",
      "7701  2015  Golden Valley County  05000US30037        0.042\n",
      "757   2015      Red River County  05000US48387        0.098\n",
      "      year            geo_name           geo   income income_moe income_rank\n",
      "3560  2015        Clark County  05000US21049  47959.0     2888.0      1253.0\n",
      "6528  2015        Greer County  05000US40055  40125.0     4244.0      2212.0\n",
      "3226  2013  Jackson County, MS  05000US28059  48943.0     1613.0      1004.0\n",
      "4349  2013        Chase County  05000US31029  45610.0     4865.0      1383.0\n",
      "4549  2015  Cochise County, AZ  05000US04003  45075.0     1485.0      1573.0\n",
      "      year                  geo_name           geo  mean_commute_minutes\n",
      "2463  2015              Moore County  05000US47127              25.49050\n",
      "1219  2013         Livingston County  05000US21139              28.38580\n",
      "5762  2014            Appling County  05000US13001              20.69750\n",
      "8773  2013              Dukes County  05000US25007              15.05400\n",
      "9628  2014  Northwest Arctic Borough  05000US02188               7.35557\n",
      "      year                     geo_name           geo child_mortality\n",
      "568   2016  East Baton Rouge Parish, LA  05000US22033            92.3\n",
      "3000  2017         Lancaster County, PA  05000US42071            56.8\n",
      "5598  2016             Comal County, TX  05000US48091            33.2\n",
      "5891  2017             Jefferson County  05000US55055            23.6\n",
      "4921  2016        Cumberland County, ME  05000US23005            41.7\n",
      "      year         geo_name           geo  population_living_in_a_rural_area\n",
      "798   2015     Cedar County  05000US31027                              1.000\n",
      "2219  2015   Lincoln County  05000US40081                              0.921\n",
      "8842  2016  Lake County, OH  05000US39085                              0.065\n",
      "4294  2017    Sevier County  05000US05133                              0.636\n",
      "1996  2015     Faulk County  05000US46049                              1.000\n",
      "      year           geo_name           geo hiv_prevalence_rate\n",
      "2609  2015      Nassau County  05000US12089               149.0\n",
      "6621  2015   Manitowoc County  05000US55071                34.7\n",
      "1697  2015  Lorain County, OH  05000US39093               219.5\n",
      "2393  2015      Waller County  05000US48473               162.7\n",
      "6842  2015     Wasatch County  05000US49051                28.3\n"
     ]
    },
    {
     "data": {
      "text/plain": [
       "['median_property_value',\n",
       " 'median_property_value_moe',\n",
       " 'high_school_graduation',\n",
       " 'teen_births',\n",
       " 'uninsured_adults',\n",
       " 'unemployment',\n",
       " 'income',\n",
       " 'income_moe',\n",
       " 'income_rank',\n",
       " 'mean_commute_minutes',\n",
       " 'child_mortality',\n",
       " 'population_living_in_a_rural_area',\n",
       " 'hiv_prevalence_rate']"
      ]
     },
     "execution_count": 23,
     "metadata": {},
     "output_type": "execute_result"
    }
   ],
   "source": [
    "col_list = []\n",
    "for i in dir_list:\n",
    "    fp = '../assets/classification/'+i\n",
    "    temp = pd.read_csv(fp)\n",
    "    print(temp.sample(5))\n",
    "    [col_list.append(i) for i in temp.columns.values[3:]]\n",
    "col_list"
   ]
  },
  {
   "cell_type": "code",
   "execution_count": 24,
   "metadata": {
    "collapsed": true
   },
   "outputs": [
    {
     "name": "stdout",
     "output_type": "stream",
     "text": [
      "---------------------\n",
      "<class 'pandas.core.frame.DataFrame'>\n",
      "RangeIndex: 9661 entries, 0 to 9660\n",
      "Data columns (total 5 columns):\n",
      "year                         9661 non-null int64\n",
      "geo_name                     9661 non-null object\n",
      "geo                          9661 non-null object\n",
      "median_property_value        9661 non-null object\n",
      "median_property_value_moe    9661 non-null object\n",
      "dtypes: int64(1), object(4)\n",
      "memory usage: 377.5+ KB\n",
      "None\n",
      "---------------------\n",
      "<class 'pandas.core.frame.DataFrame'>\n",
      "RangeIndex: 9418 entries, 0 to 9417\n",
      "Data columns (total 4 columns):\n",
      "year                      9418 non-null int64\n",
      "geo_name                  9418 non-null object\n",
      "geo                       9418 non-null object\n",
      "high_school_graduation    9418 non-null object\n",
      "dtypes: int64(1), object(3)\n",
      "memory usage: 294.4+ KB\n",
      "None\n",
      "---------------------\n",
      "<class 'pandas.core.frame.DataFrame'>\n",
      "RangeIndex: 9418 entries, 0 to 9417\n",
      "Data columns (total 4 columns):\n",
      "year           9418 non-null int64\n",
      "geo_name       9418 non-null object\n",
      "geo            9418 non-null object\n",
      "teen_births    9418 non-null object\n",
      "dtypes: int64(1), object(3)\n",
      "memory usage: 294.4+ KB\n",
      "None\n",
      "---------------------\n",
      "<class 'pandas.core.frame.DataFrame'>\n",
      "RangeIndex: 9418 entries, 0 to 9417\n",
      "Data columns (total 4 columns):\n",
      "year                9418 non-null int64\n",
      "geo_name            9418 non-null object\n",
      "geo                 9418 non-null object\n",
      "uninsured_adults    9418 non-null object\n",
      "dtypes: int64(1), object(3)\n",
      "memory usage: 294.4+ KB\n",
      "None\n",
      "---------------------\n",
      "<class 'pandas.core.frame.DataFrame'>\n",
      "RangeIndex: 9418 entries, 0 to 9417\n",
      "Data columns (total 4 columns):\n",
      "year            9418 non-null int64\n",
      "geo_name        9418 non-null object\n",
      "geo             9418 non-null object\n",
      "unemployment    9418 non-null object\n",
      "dtypes: int64(1), object(3)\n",
      "memory usage: 294.4+ KB\n",
      "None\n",
      "---------------------\n",
      "<class 'pandas.core.frame.DataFrame'>\n",
      "RangeIndex: 9661 entries, 0 to 9660\n",
      "Data columns (total 6 columns):\n",
      "year           9661 non-null int64\n",
      "geo_name       9661 non-null object\n",
      "geo            9661 non-null object\n",
      "income         9661 non-null object\n",
      "income_moe     9661 non-null object\n",
      "income_rank    9661 non-null object\n",
      "dtypes: int64(1), object(5)\n",
      "memory usage: 452.9+ KB\n",
      "None\n",
      "---------------------\n",
      "<class 'pandas.core.frame.DataFrame'>\n",
      "RangeIndex: 9661 entries, 0 to 9660\n",
      "Data columns (total 4 columns):\n",
      "year                    9661 non-null int64\n",
      "geo_name                9661 non-null object\n",
      "geo                     9661 non-null object\n",
      "mean_commute_minutes    9661 non-null float64\n",
      "dtypes: float64(1), int64(1), object(2)\n",
      "memory usage: 302.0+ KB\n",
      "None\n",
      "---------------------\n",
      "<class 'pandas.core.frame.DataFrame'>\n",
      "RangeIndex: 9418 entries, 0 to 9417\n",
      "Data columns (total 4 columns):\n",
      "year               9418 non-null int64\n",
      "geo_name           9418 non-null object\n",
      "geo                9418 non-null object\n",
      "child_mortality    9418 non-null object\n",
      "dtypes: int64(1), object(3)\n",
      "memory usage: 294.4+ KB\n",
      "None\n",
      "---------------------\n",
      "<class 'pandas.core.frame.DataFrame'>\n",
      "RangeIndex: 9418 entries, 0 to 9417\n",
      "Data columns (total 4 columns):\n",
      "year                                 9418 non-null int64\n",
      "geo_name                             9418 non-null object\n",
      "geo                                  9418 non-null object\n",
      "population_living_in_a_rural_area    9418 non-null float64\n",
      "dtypes: float64(1), int64(1), object(2)\n",
      "memory usage: 294.4+ KB\n",
      "None\n",
      "---------------------\n",
      "<class 'pandas.core.frame.DataFrame'>\n",
      "RangeIndex: 9418 entries, 0 to 9417\n",
      "Data columns (total 4 columns):\n",
      "year                   9418 non-null int64\n",
      "geo_name               9418 non-null object\n",
      "geo                    9418 non-null object\n",
      "hiv_prevalence_rate    9418 non-null object\n",
      "dtypes: int64(1), object(3)\n",
      "memory usage: 294.4+ KB\n",
      "None\n"
     ]
    }
   ],
   "source": [
    "year_list = []\n",
    "for i in dir_list:\n",
    "    fp = '../assets/classification/'+i\n",
    "    temp = pd.read_csv(fp)\n",
    "    print('---------------------')\n",
    "    print(temp.info())"
   ]
  },
  {
   "cell_type": "code",
   "execution_count": 26,
   "metadata": {},
   "outputs": [],
   "source": [
    "import psycopg2\n",
    "conn = psycopg2.connect(dbname='geodata', user='postgres', host='/tmp')\n",
    "c = conn.cursor()"
   ]
  },
  {
   "cell_type": "code",
   "execution_count": 27,
   "metadata": {},
   "outputs": [
    {
     "data": {
      "text/plain": [
       "{'2013', '2014', '2015', '2016', '2017'}"
      ]
     },
     "execution_count": 27,
     "metadata": {},
     "output_type": "execute_result"
    }
   ],
   "source": [
    "# Before I do this, let's just double check the number of years\n",
    "years = set()\n",
    "for i in dir_list:\n",
    "    fp = '../assets/classification/'+i\n",
    "    temp = pd.read_csv(fp)\n",
    "    [years.add(str(i)) for i in temp.year.values]\n",
    "years"
   ]
  },
  {
   "cell_type": "code",
   "execution_count": 34,
   "metadata": {},
   "outputs": [
    {
     "ename": "NameError",
     "evalue": "name 'table_names' is not defined",
     "output_type": "error",
     "traceback": [
      "\u001b[0;31m---------------------------------------------------------------------------\u001b[0m",
      "\u001b[0;31mNameError\u001b[0m                                 Traceback (most recent call last)",
      "\u001b[0;32m<ipython-input-34-57086a5ed2da>\u001b[0m in \u001b[0;36m<module>\u001b[0;34m()\u001b[0m\n\u001b[0;32m----> 1\u001b[0;31m \u001b[0mtable_names\u001b[0m\u001b[0;34m\u001b[0m\u001b[0m\n\u001b[0m",
      "\u001b[0;31mNameError\u001b[0m: name 'table_names' is not defined"
     ]
    }
   ],
   "source": [
    "table_names"
   ]
  },
  {
   "cell_type": "code",
   "execution_count": null,
   "metadata": {
    "collapsed": true
   },
   "outputs": [],
   "source": []
  },
  {
   "cell_type": "code",
   "execution_count": null,
   "metadata": {
    "collapsed": true
   },
   "outputs": [],
   "source": []
  },
  {
   "cell_type": "code",
   "execution_count": 69,
   "metadata": {
    "collapsed": true
   },
   "outputs": [],
   "source": [
    "for i in years:\n",
    "    SQL = '''CREATE TABLE if NOT EXISTS map_data_{} (\n",
    "    geoid INT PRIMARY KEY, geo_name TEXT, year TEXT, median_property_value INT,\n",
    "    median_property_value_moe INT, high_school_graduation REAL, teen_births REAL,\n",
    "    uninsured_adults REAL, unemployment REAL, income INT,\n",
    "    income_moe INT, income_rank INT, mean_commute_minutes REAL,\n",
    "    child_mortality REAL, population_living_in_a_rural_area REAL, hiv_prevalence_rate REAL\n",
    "    )'''.format(i)\n",
    "    c.execute(SQL)\n",
    "conn.commit()"
   ]
  },
  {
   "cell_type": "markdown",
   "metadata": {},
   "source": [
    "I really wanted to do something clever with a for loop, to make the SQL tables/columns automatically, but I had trouble getting the 'execute()' method to handle the query parameters properly.\n",
    "\n",
    "Normally I would never use string formatting to built an SQL query, but this is a toy example that won't ever interact with the public, and time is an issue."
   ]
  },
  {
   "cell_type": "code",
   "execution_count": 28,
   "metadata": {
    "collapsed": true
   },
   "outputs": [],
   "source": [
    "schema_list = [['median_property_value REAL, median_property_value_moe REAL'],\n",
    "               ['high_school_graduation REAL'],['teen_births REAL'],['uninsured_adults REAL'],\n",
    "               ['unemployment REAL'],['income REAL, income_moe REAL, income_rank REAL'],\n",
    "               ['mean_commute_minutes REAL'],['child_mortality REAL'],\n",
    "               ['population_living_in_a_rural_area REAL'],['hiv_prevalence_rate REAL']]"
   ]
  },
  {
   "cell_type": "code",
   "execution_count": 33,
   "metadata": {},
   "outputs": [
    {
     "name": "stdout",
     "output_type": "stream",
     "text": [
      "Data USA - Map of Median Property Value by County.csv\n",
      "\t ['median_property_value REAL, median_property_value_moe REAL']\n",
      "---------------\n",
      "Data USA - Map of High School Graduation by County.csv\n",
      "\t ['high_school_graduation REAL']\n",
      "---------------\n",
      "Data USA - Map of Teen Births (Age 15-19) per 1,000 People by County.csv\n",
      "\t ['teen_births REAL']\n",
      "---------------\n",
      "Data USA - Map of Percent Uninsured (Adults) by County.csv\n",
      "\t ['uninsured_adults REAL']\n",
      "---------------\n",
      "Data USA - Map of Unemployment by County.csv\n",
      "\t ['unemployment REAL']\n",
      "---------------\n",
      "Data USA - Map of Median Household Income by County.csv\n",
      "\t ['income REAL, income_moe REAL, income_rank REAL']\n",
      "---------------\n",
      "Data USA - Map of Average Travel Time by County.csv\n",
      "\t ['mean_commute_minutes REAL']\n",
      "---------------\n",
      "Data USA - Map of Child Mortality per 100,000 People by County.csv\n",
      "\t ['child_mortality REAL']\n",
      "---------------\n",
      "Data USA - Map of Rural Population by County.csv\n",
      "\t ['population_living_in_a_rural_area REAL']\n",
      "---------------\n",
      "Data USA - Map of HIV Diagnoses per 100,000 People by County.csv\n",
      "\t ['hiv_prevalence_rate REAL']\n",
      "---------------\n"
     ]
    }
   ],
   "source": [
    "for i,j in zip(schema_list, dir_list):\n",
    "    print(j)\n",
    "    print('\\ti)\n",
    "    print('---------------')"
   ]
  },
  {
   "cell_type": "code",
   "execution_count": 307,
   "metadata": {
    "collapsed": true
   },
   "outputs": [],
   "source": [
    "conn.rollback()"
   ]
  },
  {
   "cell_type": "code",
   "execution_count": 313,
   "metadata": {
    "collapsed": true
   },
   "outputs": [],
   "source": [
    "for d,t,sch in zip(dir_list,table_names,schema_list):\n",
    "    fp = '../assets/classification/'+d\n",
    "    df = pd.read_csv(fp)\n",
    "    df = make_geoid(df)\n",
    "    for y in years:\n",
    "        table_name = t+y\n",
    "        df_cols = df.columns.values[3:]\n",
    "        df_cols = np.concatenate((['geo','geo_name'], df_cols), axis=0)\n",
    "        SQL = '''CREATE TABLE if NOT EXISTS {} (\n",
    "        geoid INT, geo_name TEXT, {});'''.format(table_name, sch[0])\n",
    "        c.execute(SQL)\n",
    "        conn.commit()\n",
    "        if len(sch[0].split(','))==1: \n",
    "            SQL = \"INSERT INTO {0} VALUES (%s, %s, %s)\".format(table_name)\n",
    "        elif len(sch[0].split(','))==2:\n",
    "            SQL = \"INSERT INTO {0} VALUES (%s, %s, %s, %s)\".format(table_name)\n",
    "        else:\n",
    "            SQL = \"INSERT INTO {0} VALUES (%s, %s, %s, %s, %s)\".format(table_name)\n",
    "        for i in np.where(df.year==int(y))[0]:\n",
    "            c.execute(SQL,tuple([i if i != 'None' else None for i in df[df_cols].loc[i]]))\n",
    "            # The list comp in the c.execute() call is to handle 'None' in string format. \n",
    "            # psycopg2 isn't able to figure out that it's a missing value otherwise, and it\n",
    "            # assumes I'm trying to put text into a numeric field."
   ]
  },
  {
   "cell_type": "code",
   "execution_count": null,
   "metadata": {
    "collapsed": true
   },
   "outputs": [],
   "source": [
    "for i in years:\n",
    "    SQL = '''CREATE TABLE if NOT EXISTS map_data_{} (\n",
    "    geoid INT PRIMARY KEY, geo_name TEXT, year TEXT, median_property_value INT,\n",
    "    median_property_value_moe INT, high_school_graduation REAL, teen_births REAL,\n",
    "    uninsured_adults REAL, unemployment REAL, income INT,\n",
    "    income_moe INT, income_rank INT, mean_commute_minutes REAL,\n",
    "    child_mortality REAL, population_living_in_a_rural_area REAL, hiv_prevalence_rate REAL\n",
    "    )'''.format(i)\n",
    "    c.execute(SQL)\n",
    "    \n",
    "conn.commit()"
   ]
  },
  {
   "cell_type": "code",
   "execution_count": null,
   "metadata": {
    "collapsed": true
   },
   "outputs": [],
   "source": [
    "SQL = "
   ]
  },
  {
   "cell_type": "markdown",
   "metadata": {},
   "source": [
    "So now we have a nice, clean PostgreSQL database - as per the ReadMe for this challenge. "
   ]
  },
  {
   "cell_type": "code",
   "execution_count": null,
   "metadata": {
    "collapsed": true
   },
   "outputs": [],
   "source": []
  },
  {
   "cell_type": "code",
   "execution_count": null,
   "metadata": {
    "collapsed": true
   },
   "outputs": [],
   "source": []
  },
  {
   "cell_type": "code",
   "execution_count": null,
   "metadata": {
    "collapsed": true
   },
   "outputs": [],
   "source": []
  },
  {
   "cell_type": "code",
   "execution_count": null,
   "metadata": {
    "collapsed": true
   },
   "outputs": [],
   "source": []
  },
  {
   "cell_type": "code",
   "execution_count": null,
   "metadata": {
    "collapsed": true
   },
   "outputs": [],
   "source": []
  }
 ],
 "metadata": {
  "kernelspec": {
   "display_name": "Python 3",
   "language": "python",
   "name": "python3"
  },
  "language_info": {
   "codemirror_mode": {
    "name": "ipython",
    "version": 3
   },
   "file_extension": ".py",
   "mimetype": "text/x-python",
   "name": "python",
   "nbconvert_exporter": "python",
   "pygments_lexer": "ipython3",
   "version": "3.6.1"
  }
 },
 "nbformat": 4,
 "nbformat_minor": 2
}
